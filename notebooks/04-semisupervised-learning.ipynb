{
 "cells": [
  {
   "cell_type": "code",
   "execution_count": 23,
   "metadata": {},
   "outputs": [
    {
     "data": {
      "application/vnd.jupyter.widget-view+json": {
       "model_id": "bd86f1cc2ab742418ffd8e4d0fe82dad",
       "version_major": 2,
       "version_minor": 0
      },
      "text/plain": [
       "HBox(children=(FloatProgress(value=1.0, bar_style='info', max=1.0), HTML(value='')))"
      ]
     },
     "metadata": {},
     "output_type": "display_data"
    },
    {
     "name": "stdout",
     "output_type": "stream",
     "text": [
      "\n"
     ]
    },
    {
     "name": "stderr",
     "output_type": "stream",
     "text": [
      "/usr/local/lib/python3.7/site-packages/tqdm/std.py:658: FutureWarning: The Panel class is removed from pandas. Accessing it from the top-level namespace will also be removed in the next version\n",
      "  from pandas import Panel\n"
     ]
    }
   ],
   "source": [
    "import pandas as pd\n",
    "import numpy as np\n",
    "import matplotlib.pyplot as plt\n",
    "import seaborn as sns\n",
    "import tqdm.notebook\n",
    "from IPython.display import set_matplotlib_formats\n",
    "from loaders import load_selected_attributes, load_thumbnail\n",
    "\n",
    "tqdm.notebook.tqdm().pandas()\n",
    "\n",
    "%matplotlib inline\n",
    "set_matplotlib_formats('png')\n",
    "sns.set(rc={'axes.labelcolor':'white'})"
   ]
  },
  {
   "cell_type": "code",
   "execution_count": 24,
   "metadata": {
    "scrolled": false
   },
   "outputs": [
    {
     "data": {
      "text/html": [
       "<div>\n",
       "<style scoped>\n",
       "    .dataframe tbody tr th:only-of-type {\n",
       "        vertical-align: middle;\n",
       "    }\n",
       "\n",
       "    .dataframe tbody tr th {\n",
       "        vertical-align: top;\n",
       "    }\n",
       "\n",
       "    .dataframe thead th {\n",
       "        text-align: right;\n",
       "    }\n",
       "</style>\n",
       "<table border=\"1\" class=\"dataframe\">\n",
       "  <thead>\n",
       "    <tr style=\"text-align: right;\">\n",
       "      <th></th>\n",
       "      <th>category_id</th>\n",
       "      <th>description__ant</th>\n",
       "      <th>description__avail</th>\n",
       "      <th>description__deal</th>\n",
       "      <th>description__follow</th>\n",
       "      <th>description__game</th>\n",
       "      <th>description__imag</th>\n",
       "      <th>description__key</th>\n",
       "      <th>description__life</th>\n",
       "      <th>description__music</th>\n",
       "      <th>...</th>\n",
       "      <th>title__shoot</th>\n",
       "      <th>title__tech</th>\n",
       "      <th>title__trailer</th>\n",
       "      <th>title__video</th>\n",
       "      <th>title__world</th>\n",
       "      <th>title_num_exclamation_marks</th>\n",
       "      <th>title_num_numbers</th>\n",
       "      <th>title_num_periods</th>\n",
       "      <th>title_num_question_marks</th>\n",
       "      <th>title_num_uppercase_words</th>\n",
       "    </tr>\n",
       "  </thead>\n",
       "  <tbody>\n",
       "    <tr>\n",
       "      <th>0</th>\n",
       "      <td>NaN</td>\n",
       "      <td>1</td>\n",
       "      <td>0</td>\n",
       "      <td>0</td>\n",
       "      <td>1</td>\n",
       "      <td>0</td>\n",
       "      <td>0</td>\n",
       "      <td>0</td>\n",
       "      <td>0</td>\n",
       "      <td>1</td>\n",
       "      <td>...</td>\n",
       "      <td>0</td>\n",
       "      <td>0</td>\n",
       "      <td>0</td>\n",
       "      <td>0</td>\n",
       "      <td>0</td>\n",
       "      <td>0</td>\n",
       "      <td>1</td>\n",
       "      <td>0</td>\n",
       "      <td>0</td>\n",
       "      <td>0</td>\n",
       "    </tr>\n",
       "    <tr>\n",
       "      <th>1</th>\n",
       "      <td>NaN</td>\n",
       "      <td>0</td>\n",
       "      <td>0</td>\n",
       "      <td>0</td>\n",
       "      <td>1</td>\n",
       "      <td>0</td>\n",
       "      <td>0</td>\n",
       "      <td>0</td>\n",
       "      <td>0</td>\n",
       "      <td>1</td>\n",
       "      <td>...</td>\n",
       "      <td>0</td>\n",
       "      <td>0</td>\n",
       "      <td>0</td>\n",
       "      <td>0</td>\n",
       "      <td>0</td>\n",
       "      <td>0</td>\n",
       "      <td>0</td>\n",
       "      <td>0</td>\n",
       "      <td>1</td>\n",
       "      <td>1</td>\n",
       "    </tr>\n",
       "    <tr>\n",
       "      <th>2</th>\n",
       "      <td>NaN</td>\n",
       "      <td>0</td>\n",
       "      <td>1</td>\n",
       "      <td>0</td>\n",
       "      <td>0</td>\n",
       "      <td>0</td>\n",
       "      <td>0</td>\n",
       "      <td>0</td>\n",
       "      <td>0</td>\n",
       "      <td>1</td>\n",
       "      <td>...</td>\n",
       "      <td>0</td>\n",
       "      <td>0</td>\n",
       "      <td>0</td>\n",
       "      <td>0</td>\n",
       "      <td>0</td>\n",
       "      <td>0</td>\n",
       "      <td>0</td>\n",
       "      <td>1</td>\n",
       "      <td>0</td>\n",
       "      <td>0</td>\n",
       "    </tr>\n",
       "    <tr>\n",
       "      <th>3</th>\n",
       "      <td>NaN</td>\n",
       "      <td>0</td>\n",
       "      <td>0</td>\n",
       "      <td>0</td>\n",
       "      <td>1</td>\n",
       "      <td>0</td>\n",
       "      <td>0</td>\n",
       "      <td>0</td>\n",
       "      <td>0</td>\n",
       "      <td>0</td>\n",
       "      <td>...</td>\n",
       "      <td>0</td>\n",
       "      <td>0</td>\n",
       "      <td>0</td>\n",
       "      <td>0</td>\n",
       "      <td>0</td>\n",
       "      <td>1</td>\n",
       "      <td>1</td>\n",
       "      <td>0</td>\n",
       "      <td>0</td>\n",
       "      <td>0</td>\n",
       "    </tr>\n",
       "    <tr>\n",
       "      <th>4</th>\n",
       "      <td>NaN</td>\n",
       "      <td>0</td>\n",
       "      <td>0</td>\n",
       "      <td>0</td>\n",
       "      <td>0</td>\n",
       "      <td>0</td>\n",
       "      <td>0</td>\n",
       "      <td>0</td>\n",
       "      <td>0</td>\n",
       "      <td>0</td>\n",
       "      <td>...</td>\n",
       "      <td>0</td>\n",
       "      <td>0</td>\n",
       "      <td>0</td>\n",
       "      <td>0</td>\n",
       "      <td>0</td>\n",
       "      <td>0</td>\n",
       "      <td>0</td>\n",
       "      <td>0</td>\n",
       "      <td>0</td>\n",
       "      <td>0</td>\n",
       "    </tr>\n",
       "    <tr>\n",
       "      <th>...</th>\n",
       "      <td>...</td>\n",
       "      <td>...</td>\n",
       "      <td>...</td>\n",
       "      <td>...</td>\n",
       "      <td>...</td>\n",
       "      <td>...</td>\n",
       "      <td>...</td>\n",
       "      <td>...</td>\n",
       "      <td>...</td>\n",
       "      <td>...</td>\n",
       "      <td>...</td>\n",
       "      <td>...</td>\n",
       "      <td>...</td>\n",
       "      <td>...</td>\n",
       "      <td>...</td>\n",
       "      <td>...</td>\n",
       "      <td>...</td>\n",
       "      <td>...</td>\n",
       "      <td>...</td>\n",
       "      <td>...</td>\n",
       "      <td>...</td>\n",
       "    </tr>\n",
       "    <tr>\n",
       "      <th>8602</th>\n",
       "      <td>NaN</td>\n",
       "      <td>0</td>\n",
       "      <td>0</td>\n",
       "      <td>0</td>\n",
       "      <td>0</td>\n",
       "      <td>0</td>\n",
       "      <td>1</td>\n",
       "      <td>0</td>\n",
       "      <td>0</td>\n",
       "      <td>1</td>\n",
       "      <td>...</td>\n",
       "      <td>0</td>\n",
       "      <td>0</td>\n",
       "      <td>0</td>\n",
       "      <td>0</td>\n",
       "      <td>0</td>\n",
       "      <td>0</td>\n",
       "      <td>0</td>\n",
       "      <td>0</td>\n",
       "      <td>0</td>\n",
       "      <td>0</td>\n",
       "    </tr>\n",
       "    <tr>\n",
       "      <th>8603</th>\n",
       "      <td>NaN</td>\n",
       "      <td>0</td>\n",
       "      <td>1</td>\n",
       "      <td>0</td>\n",
       "      <td>0</td>\n",
       "      <td>0</td>\n",
       "      <td>0</td>\n",
       "      <td>0</td>\n",
       "      <td>0</td>\n",
       "      <td>1</td>\n",
       "      <td>...</td>\n",
       "      <td>0</td>\n",
       "      <td>0</td>\n",
       "      <td>0</td>\n",
       "      <td>0</td>\n",
       "      <td>0</td>\n",
       "      <td>0</td>\n",
       "      <td>0</td>\n",
       "      <td>0</td>\n",
       "      <td>1</td>\n",
       "      <td>4</td>\n",
       "    </tr>\n",
       "    <tr>\n",
       "      <th>8604</th>\n",
       "      <td>NaN</td>\n",
       "      <td>0</td>\n",
       "      <td>0</td>\n",
       "      <td>0</td>\n",
       "      <td>1</td>\n",
       "      <td>0</td>\n",
       "      <td>0</td>\n",
       "      <td>0</td>\n",
       "      <td>0</td>\n",
       "      <td>0</td>\n",
       "      <td>...</td>\n",
       "      <td>0</td>\n",
       "      <td>0</td>\n",
       "      <td>0</td>\n",
       "      <td>0</td>\n",
       "      <td>0</td>\n",
       "      <td>0</td>\n",
       "      <td>0</td>\n",
       "      <td>0</td>\n",
       "      <td>0</td>\n",
       "      <td>1</td>\n",
       "    </tr>\n",
       "    <tr>\n",
       "      <th>8605</th>\n",
       "      <td>NaN</td>\n",
       "      <td>1</td>\n",
       "      <td>0</td>\n",
       "      <td>0</td>\n",
       "      <td>0</td>\n",
       "      <td>0</td>\n",
       "      <td>0</td>\n",
       "      <td>0</td>\n",
       "      <td>0</td>\n",
       "      <td>0</td>\n",
       "      <td>...</td>\n",
       "      <td>0</td>\n",
       "      <td>0</td>\n",
       "      <td>0</td>\n",
       "      <td>0</td>\n",
       "      <td>0</td>\n",
       "      <td>0</td>\n",
       "      <td>0</td>\n",
       "      <td>0</td>\n",
       "      <td>0</td>\n",
       "      <td>0</td>\n",
       "    </tr>\n",
       "    <tr>\n",
       "      <th>8606</th>\n",
       "      <td>NaN</td>\n",
       "      <td>1</td>\n",
       "      <td>0</td>\n",
       "      <td>0</td>\n",
       "      <td>1</td>\n",
       "      <td>0</td>\n",
       "      <td>0</td>\n",
       "      <td>0</td>\n",
       "      <td>0</td>\n",
       "      <td>1</td>\n",
       "      <td>...</td>\n",
       "      <td>0</td>\n",
       "      <td>0</td>\n",
       "      <td>0</td>\n",
       "      <td>0</td>\n",
       "      <td>0</td>\n",
       "      <td>0</td>\n",
       "      <td>1</td>\n",
       "      <td>0</td>\n",
       "      <td>0</td>\n",
       "      <td>0</td>\n",
       "    </tr>\n",
       "  </tbody>\n",
       "</table>\n",
       "<p>8607 rows × 83 columns</p>\n",
       "</div>"
      ],
      "text/plain": [
       "     category_id  description__ant  description__avail  description__deal  \\\n",
       "0            NaN                 1                   0                  0   \n",
       "1            NaN                 0                   0                  0   \n",
       "2            NaN                 0                   1                  0   \n",
       "3            NaN                 0                   0                  0   \n",
       "4            NaN                 0                   0                  0   \n",
       "...          ...               ...                 ...                ...   \n",
       "8602         NaN                 0                   0                  0   \n",
       "8603         NaN                 0                   1                  0   \n",
       "8604         NaN                 0                   0                  0   \n",
       "8605         NaN                 1                   0                  0   \n",
       "8606         NaN                 1                   0                  0   \n",
       "\n",
       "      description__follow  description__game  description__imag  \\\n",
       "0                       1                  0                  0   \n",
       "1                       1                  0                  0   \n",
       "2                       0                  0                  0   \n",
       "3                       1                  0                  0   \n",
       "4                       0                  0                  0   \n",
       "...                   ...                ...                ...   \n",
       "8602                    0                  0                  1   \n",
       "8603                    0                  0                  0   \n",
       "8604                    1                  0                  0   \n",
       "8605                    0                  0                  0   \n",
       "8606                    1                  0                  0   \n",
       "\n",
       "      description__key  description__life  description__music  ...  \\\n",
       "0                    0                  0                   1  ...   \n",
       "1                    0                  0                   1  ...   \n",
       "2                    0                  0                   1  ...   \n",
       "3                    0                  0                   0  ...   \n",
       "4                    0                  0                   0  ...   \n",
       "...                ...                ...                 ...  ...   \n",
       "8602                 0                  0                   1  ...   \n",
       "8603                 0                  0                   1  ...   \n",
       "8604                 0                  0                   0  ...   \n",
       "8605                 0                  0                   0  ...   \n",
       "8606                 0                  0                   1  ...   \n",
       "\n",
       "      title__shoot  title__tech  title__trailer  title__video  title__world  \\\n",
       "0                0            0               0             0             0   \n",
       "1                0            0               0             0             0   \n",
       "2                0            0               0             0             0   \n",
       "3                0            0               0             0             0   \n",
       "4                0            0               0             0             0   \n",
       "...            ...          ...             ...           ...           ...   \n",
       "8602             0            0               0             0             0   \n",
       "8603             0            0               0             0             0   \n",
       "8604             0            0               0             0             0   \n",
       "8605             0            0               0             0             0   \n",
       "8606             0            0               0             0             0   \n",
       "\n",
       "      title_num_exclamation_marks  title_num_numbers  title_num_periods  \\\n",
       "0                               0                  1                  0   \n",
       "1                               0                  0                  0   \n",
       "2                               0                  0                  1   \n",
       "3                               1                  1                  0   \n",
       "4                               0                  0                  0   \n",
       "...                           ...                ...                ...   \n",
       "8602                            0                  0                  0   \n",
       "8603                            0                  0                  0   \n",
       "8604                            0                  0                  0   \n",
       "8605                            0                  0                  0   \n",
       "8606                            0                  1                  0   \n",
       "\n",
       "      title_num_question_marks  title_num_uppercase_words  \n",
       "0                            0                          0  \n",
       "1                            1                          1  \n",
       "2                            0                          0  \n",
       "3                            0                          0  \n",
       "4                            0                          0  \n",
       "...                        ...                        ...  \n",
       "8602                         0                          0  \n",
       "8603                         1                          4  \n",
       "8604                         0                          1  \n",
       "8605                         0                          0  \n",
       "8606                         0                          0  \n",
       "\n",
       "[8607 rows x 83 columns]"
      ]
     },
     "execution_count": 24,
     "metadata": {},
     "output_type": "execute_result"
    }
   ],
   "source": [
    "vids = load_selected_attributes()\n",
    "vids"
   ]
  },
  {
   "cell_type": "code",
   "execution_count": 25,
   "metadata": {},
   "outputs": [
    {
     "data": {
      "text/plain": [
       "True     8212\n",
       "False     395\n",
       "Name: category_id, dtype: int64"
      ]
     },
     "execution_count": 25,
     "metadata": {},
     "output_type": "execute_result"
    }
   ],
   "source": [
    "vids['category_id'].isnull().value_counts()"
   ]
  },
  {
   "cell_type": "code",
   "execution_count": 26,
   "metadata": {},
   "outputs": [
    {
     "name": "stdout",
     "output_type": "stream",
     "text": [
      "category labeled: 395\n",
      "not labeled: 8212\n",
      "labeled to not labeled ratio 4.59 %\n",
      "\n",
      "Category per labeled video:\n"
     ]
    },
    {
     "data": {
      "text/plain": [
       "<matplotlib.axes._subplots.AxesSubplot at 0x12486a450>"
      ]
     },
     "execution_count": 26,
     "metadata": {},
     "output_type": "execute_result"
    },
    {
     "data": {
      "image/png": "[encoded data removed]",
      "text/plain": [
       "<Figure size 432x288 with 1 Axes>"
      ]
     },
     "metadata": {},
     "output_type": "display_data"
    }
   ],
   "source": [
    "all_vids = vids\n",
    "labeled_vids = vids[~pd.isnull(vids['category_id'])]\n",
    "\n",
    "labeled_count = len(labeled_vids.index)\n",
    "notlabeled_count = len(all_vids.index) - len(labeled_vids.index)\n",
    "\n",
    "print('category labeled:', labeled_count)\n",
    "print('not labeled:', notlabeled_count)\n",
    "print('labeled to not labeled ratio', round(labeled_count / len(vids.index) * 100, 2), '%')\n",
    "print()\n",
    "print('Category per labeled video:')\n",
    "\n",
    "count = labeled_vids['category_id'].value_counts()\n",
    "sns.barplot(count.index.astype('int'), count.values)"
   ]
  },
  {
   "cell_type": "markdown",
   "metadata": {},
   "source": [
    "# Label Spreading"
   ]
  },
  {
   "cell_type": "code",
   "execution_count": 27,
   "metadata": {},
   "outputs": [
    {
     "name": "stdout",
     "output_type": "stream",
     "text": [
      "Null data before replacing:\n",
      "category_id                          8212\n",
      "description__ant                        0\n",
      "description__avail                      0\n",
      "description__deal                       0\n",
      "description__follow                     0\n",
      "description__game                       0\n",
      "description__imag                       0\n",
      "description__key                        0\n",
      "description__life                       0\n",
      "description__music                      0\n",
      "description__new                        0\n",
      "description__news                       0\n",
      "description__nhttp                      0\n",
      "description__noggin                     0\n",
      "description__show                       0\n",
      "description__tag                        0\n",
      "description__time                       0\n",
      "description__watch                      0\n",
      "description__world                      0\n",
      "description__youtub                     0\n",
      "description_num_chars                 150\n",
      "description_num_exclamation_marks     150\n",
      "description_num_numbers               150\n",
      "description_num_periods               150\n",
      "description_num_question_marks        150\n",
      "description_num_words                 150\n",
      "description_sentiment                 150\n",
      "faces_fear                              0\n",
      "faces_happy                             0\n",
      "faces_surprise                          0\n",
      "faces_total                             0\n",
      "has_image                               0\n",
      "l1                                      0\n",
      "like_ratio                             38\n",
      "publish_hour                            0\n",
      "publish_weekday                         0\n",
      "s2                                      0\n",
      "tag__animation                          0\n",
      "tag__basketball                         0\n",
      "tag__beauty                             0\n",
      "tag__comedy                             0\n",
      "tag__education                          0\n",
      "tag__educational                        0\n",
      "tag__fashion                            0\n",
      "tag__food                               0\n",
      "tag__funny                              0\n",
      "tag__highlights                         0\n",
      "tag__how to                             0\n",
      "tag__humor                              0\n",
      "tag__movie                              0\n",
      "tag__music                              0\n",
      "tag__nba                                0\n",
      "tag__pop                                0\n",
      "tag__rap                                0\n",
      "tag__science                            0\n",
      "tag__talk show                          0\n",
      "tag__tech                               0\n",
      "tag__technology                         0\n",
      "tag__trailer                            0\n",
      "tag__tutorial                           0\n",
      "title__1                                0\n",
      "title__2017                             0\n",
      "title__2018                             0\n",
      "title__christma                         0\n",
      "title__day                              0\n",
      "title__de                               0\n",
      "title__first                            0\n",
      "title__hd                               0\n",
      "title__iphon                            0\n",
      "title__made                             0\n",
      "title__new                              0\n",
      "title__offici                           0\n",
      "title__play                             0\n",
      "title__shoot                            0\n",
      "title__tech                             0\n",
      "title__trailer                          0\n",
      "title__video                            0\n",
      "title__world                            0\n",
      "title_num_exclamation_marks             0\n",
      "title_num_numbers                       0\n",
      "title_num_periods                       0\n",
      "title_num_question_marks                0\n",
      "title_num_uppercase_words               0\n",
      "dtype: int64\n",
      "Count of null data after replacing:\n",
      "0\n",
      "Original Y values:\n",
      "NaN     8212\n",
      "24.0     100\n",
      "10.0      54\n",
      "23.0      40\n",
      "22.0      39\n",
      "26.0      32\n",
      "17.0      30\n",
      "25.0      24\n",
      "28.0      21\n",
      "1.0       20\n",
      "20.0      14\n",
      "27.0      10\n",
      "15.0       5\n",
      "2.0        3\n",
      "19.0       2\n",
      "29.0       1\n",
      "Name: category_id, dtype: int64\n"
     ]
    },
    {
     "data": {
      "text/plain": [
       "-1.0     8212\n",
       " 24.0     100\n",
       " 10.0      54\n",
       " 23.0      40\n",
       " 22.0      39\n",
       " 26.0      32\n",
       " 17.0      30\n",
       " 25.0      24\n",
       " 28.0      21\n",
       " 1.0       20\n",
       " 20.0      14\n",
       " 27.0      10\n",
       " 15.0       5\n",
       " 2.0        3\n",
       " 19.0       2\n",
       " 29.0       1\n",
       "Name: category_id, dtype: int64"
      ]
     },
     "execution_count": 27,
     "metadata": {},
     "output_type": "execute_result"
    }
   ],
   "source": [
    "all_vids['has_image'] = all_vids['has_image'].astype(int)\n",
    "\n",
    "with pd.option_context('display.max_rows', None, 'display.max_columns', None):\n",
    "        print(\"Null data before replacing:\")\n",
    "        print(all_vids.isnull().sum())\n",
    "#     print(all_vids.loc[all_vids['description_num_chars']/.isnull()])\n",
    "#     print(X_train_with_and_without_categories['like_ratio'])\n",
    "\n",
    "X_train_with_and_without_categories = all_vids[all_vids.columns.difference(['category_id'], sort=False)].copy()\n",
    "Y_train_with_and_without_categories = all_vids['category_id'].copy()\n",
    "\n",
    "# Replace NaN for X data\n",
    "# like_ratio == NaN if ratings are disabled. Using 1.0 instead.\n",
    "X_train_with_and_without_categories['like_ratio'] = X_train_with_and_without_categories['like_ratio'].replace({np.nan: 1})\n",
    "# description_num == NaN if there is no description. Using 0 instead.\n",
    "X_train_with_and_without_categories = X_train_with_and_without_categories.replace({np.nan: 0})\n",
    "\n",
    "with pd.option_context('display.max_rows', None, 'display.max_columns', None):\n",
    "        print(\"Count of null data after replacing:\")\n",
    "        print(X_train_with_and_without_categories.isnull().sum().sum())\n",
    "\n",
    "# Replace NaN with -1.0 for Y data\n",
    "print(\"Original Y values:\")\n",
    "print(Y_train_with_and_without_categories.value_counts(dropna=False))\n",
    "Y_train_with_and_without_categories = Y_train_with_and_without_categories.replace({np.nan: -1})\n",
    "Y_train_with_and_without_categories.value_counts()\n"
   ]
  },
  {
   "cell_type": "code",
   "execution_count": 28,
   "metadata": {},
   "outputs": [
    {
     "data": {
      "text/plain": [
       "array([[0.00038775, 0.        , 0.        , ..., 0.        , 0.        ,\n",
       "        0.        ],\n",
       "       [0.        , 0.        , 0.        , ..., 0.        , 0.00215983,\n",
       "        0.00014588],\n",
       "       [0.        , 0.00164474, 0.        , ..., 0.00071124, 0.        ,\n",
       "        0.        ],\n",
       "       ...,\n",
       "       [0.        , 0.        , 0.        , ..., 0.        , 0.        ,\n",
       "        0.00014588],\n",
       "       [0.00038775, 0.        , 0.        , ..., 0.        , 0.        ,\n",
       "        0.        ],\n",
       "       [0.00038775, 0.        , 0.        , ..., 0.        , 0.        ,\n",
       "        0.        ]])"
      ]
     },
     "execution_count": 28,
     "metadata": {},
     "output_type": "execute_result"
    }
   ],
   "source": [
    "from sklearn.preprocessing import StandardScaler, normalize, scale, Normalizer\n",
    "\n",
    "X = normalize(X_train_with_and_without_categories, norm='l1', axis=0, copy=True)\n",
    "# I love Python\n",
    "Y_train_with_and_without_categories = [int(float(x)) for x in Y_train_with_and_without_categories]\n",
    "X"
   ]
  },
  {
   "cell_type": "code",
   "execution_count": 29,
   "metadata": {},
   "outputs": [
    {
     "name": "stderr",
     "output_type": "stream",
     "text": [
      "/usr/local/lib/python3.7/site-packages/sklearn/semi_supervised/_label_propagation.py:293: RuntimeWarning: invalid value encountered in true_divide\n",
      "  self.label_distributions_ /= normalizer\n"
     ]
    },
    {
     "data": {
      "text/plain": [
       "<matplotlib.axes._subplots.AxesSubplot at 0x122cdc750>"
      ]
     },
     "execution_count": 29,
     "metadata": {},
     "output_type": "execute_result"
    },
    {
     "data": {
      "image/png": "[encoded data removed]",
      "text/plain": [
       "<Figure size 432x288 with 1 Axes>"
      ]
     },
     "metadata": {},
     "output_type": "display_data"
    }
   ],
   "source": [
    "from sklearn.semi_supervised import LabelSpreading\n",
    "\n",
    "model = LabelSpreading('knn', gamma=.25, max_iter=100)\n",
    "model.fit(X, Y_train_with_and_without_categories)\n",
    "\n",
    "knn_predicted = model.predict(X)\n",
    "count = pd.Series(knn_predicted).value_counts()\n",
    "sns.barplot(count.index.astype('int'), count.values)\n"
   ]
  },
  {
   "cell_type": "code",
   "execution_count": 30,
   "metadata": {},
   "outputs": [
    {
     "data": {
      "text/plain": [
       "<matplotlib.axes._subplots.AxesSubplot at 0x122c9f1d0>"
      ]
     },
     "execution_count": 30,
     "metadata": {},
     "output_type": "execute_result"
    },
    {
     "data": {
      "image/png": "[encoded data removed]",
      "text/plain": [
       "<Figure size 432x288 with 1 Axes>"
      ]
     },
     "metadata": {},
     "output_type": "display_data"
    }
   ],
   "source": [
    "model = LabelSpreading('rbf', gamma=.25, max_iter=100)\n",
    "model.fit(X, Y_train_with_and_without_categories)\n",
    "\n",
    "rfb_predicted = model.predict(X)\n",
    "count = pd.Series(rfb_predicted).value_counts()\n",
    "sns.barplot(count.index.astype('int'), count.values)"
   ]
  },
  {
   "cell_type": "markdown",
   "metadata": {},
   "source": [
    "# Label propagation"
   ]
  },
  {
   "cell_type": "code",
   "execution_count": 31,
   "metadata": {},
   "outputs": [
    {
     "name": "stderr",
     "output_type": "stream",
     "text": [
      "/usr/local/lib/python3.7/site-packages/sklearn/semi_supervised/_label_propagation.py:277: RuntimeWarning: invalid value encountered in true_divide\n",
      "  self.label_distributions_ /= normalizer\n",
      "/usr/local/lib/python3.7/site-packages/sklearn/semi_supervised/_label_propagation.py:288: ConvergenceWarning: max_iter=100 was reached without convergence.\n",
      "  category=ConvergenceWarning\n"
     ]
    },
    {
     "data": {
      "text/plain": [
       "<matplotlib.axes._subplots.AxesSubplot at 0x1232d35d0>"
      ]
     },
     "execution_count": 31,
     "metadata": {},
     "output_type": "execute_result"
    },
    {
     "data": {
      "image/png": "[encoded data removed]",
      "text/plain": [
       "<Figure size 432x288 with 1 Axes>"
      ]
     },
     "metadata": {},
     "output_type": "display_data"
    }
   ],
   "source": [
    "from sklearn.semi_supervised import LabelPropagation\n",
    "\n",
    "model = LabelPropagation('knn', gamma=.25, max_iter=100)\n",
    "model.fit(X, Y_train_with_and_without_categories)\n",
    "\n",
    "knn_predicted = model.predict(X)\n",
    "count = pd.Series(knn_predicted).value_counts()\n",
    "sns.barplot(count.index.astype('int'), count.values)"
   ]
  },
  {
   "cell_type": "code",
   "execution_count": 32,
   "metadata": {},
   "outputs": [
    {
     "data": {
      "text/plain": [
       "<matplotlib.axes._subplots.AxesSubplot at 0x1234cad50>"
      ]
     },
     "execution_count": 32,
     "metadata": {},
     "output_type": "execute_result"
    },
    {
     "data": {
      "image/png": "[encoded data removed]",
      "text/plain": [
       "<Figure size 432x288 with 1 Axes>"
      ]
     },
     "metadata": {},
     "output_type": "display_data"
    }
   ],
   "source": [
    "model = LabelPropagation('rbf', gamma=.25, max_iter=100)\n",
    "model.fit(X, Y_train_with_and_without_categories)\n",
    "\n",
    "knn_predicted = model.predict(X)\n",
    "count = pd.Series(knn_predicted).value_counts()\n",
    "sns.barplot(count.index.astype('int'), count.values)"
   ]
  },
  {
   "cell_type": "markdown",
   "metadata": {},
   "source": []
  }
 ],
 "metadata": {
  "kernelspec": {
   "display_name": "Python 3",
   "language": "python",
   "name": "python3"
  },
  "language_info": {
   "codemirror_mode": {
    "name": "ipython",
    "version": 3
   },
   "file_extension": ".py",
   "mimetype": "text/x-python",
   "name": "python",
   "nbconvert_exporter": "python",
   "pygments_lexer": "ipython3",
   "version": "3.7.6"
  }
 },
 "nbformat": 4,
 "nbformat_minor": 4
}
