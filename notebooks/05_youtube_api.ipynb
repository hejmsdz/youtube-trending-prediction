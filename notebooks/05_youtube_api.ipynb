{
 "cells": [
  {
   "cell_type": "code",
   "execution_count": 1,
   "metadata": {},
   "outputs": [],
   "source": [
    "import os\n",
    "from googleapiclient.discovery import build as build_api_client"
   ]
  },
  {
   "cell_type": "code",
   "execution_count": 2,
   "metadata": {},
   "outputs": [],
   "source": [
    "assert 'YOUTUBE_API_KEY' in os.environ\n",
    "yt = build_api_client('youtube', 'v3', developerKey=os.environ['YOUTUBE_API_KEY'])"
   ]
  },
  {
   "cell_type": "code",
   "execution_count": 3,
   "metadata": {},
   "outputs": [],
   "source": [
    "search_response = yt.search().list(\n",
    "    q='tom scott autotune',\n",
    "    part='id,snippet',\n",
    "    maxResults=10\n",
    ").execute()"
   ]
  },
  {
   "cell_type": "code",
   "execution_count": 4,
   "metadata": {},
   "outputs": [
    {
     "name": "stdout",
     "output_type": "stream",
     "text": [
      "{'kind': 'youtube#video', 'videoId': 'i09V6SkVkz8'}\n",
      "How Auto-Tune Works\n",
      "\n",
      "{'kind': 'youtube#video', 'videoId': 'G025oxyWv0E'}\n",
      "If Educational Videos Were Filmed Like Music Videos\n",
      "\n",
      "{'kind': 'youtube#video', 'videoId': '-sXyytFRh0Q'}\n",
      "Pitch corrected version of Tom Scotts &quot;Why California&#39;s Musical Road Sounds Terrible&quot;\n",
      "\n",
      "{'kind': 'youtube#video', 'videoId': 'Ef93WmlEho0'}\n",
      "Why California&#39;s Musical Road Sounds Terrible\n",
      "\n",
      "{'kind': 'youtube#video', 'videoId': 'kxuwPRY8kEo'}\n",
      "A Questionable Experiment in Motion Sickness\n",
      "\n",
      "{'kind': 'youtube#video', 'videoId': 'r6Rp-uo6HmI'}\n",
      "Why Snow and Confetti Ruin YouTube Video Quality\n",
      "\n",
      "{'kind': 'youtube#video', 'videoId': 'XvuRH-Ra3CM'}\n",
      "If Educational Videos Were Filmed Like Music Videos With Autotune\n",
      "\n",
      "{'kind': 'youtube#channel', 'channelId': 'UCNYrK4tc5i1-eL8TXesH2pg'}\n",
      "schmoyoho\n",
      "\n",
      "{'kind': 'youtube#video', 'videoId': 'QYh0b1AyHbo'}\n",
      "How Autotune Works - Directors Cut [Tom Scott]\n",
      "\n",
      "{'kind': 'youtube#video', 'videoId': '8Ao-eMUn-U8'}\n",
      "Obama Sings Spooky Scary Skeletons - This Day in Halloween History ft. Tom Scott\n",
      "\n"
     ]
    }
   ],
   "source": [
    "for item in search_response['items']:\n",
    "    print(item['id'])\n",
    "    print(item['snippet']['title'])\n",
    "    print()"
   ]
  }
 ],
 "metadata": {
  "kernelspec": {
   "display_name": "Python 3",
   "language": "python",
   "name": "python3"
  },
  "language_info": {
   "codemirror_mode": {
    "name": "ipython",
    "version": 3
   },
   "file_extension": ".py",
   "mimetype": "text/x-python",
   "name": "python",
   "nbconvert_exporter": "python",
   "pygments_lexer": "ipython3",
   "version": "3.6.9"
  }
 },
 "nbformat": 4,
 "nbformat_minor": 4
}
