{
 "cells": [
  {
   "cell_type": "code",
   "execution_count": 1,
   "metadata": {
    "scrolled": true
   },
   "outputs": [],
   "source": [
    "import pandas as pd\n",
    "import numpy as np\n",
    "import matplotlib.pyplot as plt\n",
    "import seaborn as sns\n",
    "sns.set()\n",
    "\n",
    "from loaders import load_features, load_non_trending_features\n",
    "\n",
    "trending = load_features()\n",
    "non_trending = load_non_trending_features()"
   ]
  },
  {
   "cell_type": "code",
   "execution_count": 2,
   "metadata": {},
   "outputs": [
    {
     "output_type": "execute_result",
     "data": {
      "text/plain": "         video_id  category_id  publish_weekday  publish_hour  like_ratio  \\\n0     Jw1Y-zhQURU           -1                4             7    0.844573   \n1     3s1rvMFUweQ           -1                6             6    0.917645   \n2     n1WpP7iowLc           10                4            17    0.947740   \n3     PUTEiSjKwJU           17                0             2    0.941463   \n4     rHwDegptbI4           -1                0             1    0.937500   \n...           ...          ...              ...           ...         ...   \n8602  Gi56dSh8Fq8           22                2            18    0.753010   \n8603  dS5Thrl-4Kc           26                1            18    0.966927   \n8604  JGm9Y_hFqNk           17                2            15    0.960105   \n8605  mpnshdmtE2Y           26                1            16    0.953487   \n8606  yz7Xq3T0YPs           24                2             9    0.965211   \n\n      likes_per_view  dislikes_per_view  comments_per_view  title_num_chars  \\\n0           0.007707           0.001418           0.001312               45   \n1           0.024260           0.002177           0.002617               43   \n2           0.045891           0.002531           0.007336               43   \n3           0.006934           0.000431           0.001329               76   \n4           0.003057           0.000204           0.003057               55   \n...              ...                ...                ...              ...   \n8602        0.025024           0.008208           0.005323               40   \n8603        0.043077           0.001473           0.005790               29   \n8604        0.009474           0.000394           0.003082               94   \n8605        0.026300           0.001283           0.002242               66   \n8606        0.027530           0.000992           0.002579               64   \n\n      title_num_words  ...  faces_angry  faces_disgust  faces_fear  \\\n0                   7  ...            0              0           0   \n1                  15  ...            0              0           0   \n2                  13  ...            0              0           0   \n3                  15  ...            0              0           0   \n4                   9  ...            0              0           0   \n...               ...  ...          ...            ...         ...   \n8602                8  ...            0              0           0   \n8603                7  ...            0              0           0   \n8604               17  ...            0              0           1   \n8605               15  ...            0              0           0   \n8606               11  ...            0              0           0   \n\n      faces_happy  faces_neutral  faces_sad  faces_surprise  text_area  \\\n0               0              0          0               0   0.000000   \n1               0              0          0               0   0.000000   \n2               0              0          0               0   0.419853   \n3               0              0          0               0   0.000000   \n4               0              0          0               0   0.000000   \n...           ...            ...        ...             ...        ...   \n8602            0              0          0               1   0.000000   \n8603            0              0          0               1   0.000000   \n8604            0              0          0               0   0.000000   \n8605            0              0          0               0   0.046569   \n8606            1              0          0               0   0.000000   \n\n      text_centroid_x  text_centroid_y  \n0                 NaN              NaN  \n1                 NaN              NaN  \n2           25.809107        55.878284  \n3                 NaN              NaN  \n4                 NaN              NaN  \n...               ...              ...  \n8602              NaN              NaN  \n8603              NaN              NaN  \n8604              NaN              NaN  \n8605        58.500000        26.500000  \n8606              NaN              NaN  \n\n[8607 rows x 174 columns]",
      "text/html": "<div>\n<style scoped>\n    .dataframe tbody tr th:only-of-type {\n        vertical-align: middle;\n    }\n\n    .dataframe tbody tr th {\n        vertical-align: top;\n    }\n\n    .dataframe thead th {\n        text-align: right;\n    }\n</style>\n<table border=\"1\" class=\"dataframe\">\n  <thead>\n    <tr style=\"text-align: right;\">\n      <th></th>\n      <th>video_id</th>\n      <th>category_id</th>\n      <th>publish_weekday</th>\n      <th>publish_hour</th>\n      <th>like_ratio</th>\n      <th>likes_per_view</th>\n      <th>dislikes_per_view</th>\n      <th>comments_per_view</th>\n      <th>title_num_chars</th>\n      <th>title_num_words</th>\n      <th>...</th>\n      <th>faces_angry</th>\n      <th>faces_disgust</th>\n      <th>faces_fear</th>\n      <th>faces_happy</th>\n      <th>faces_neutral</th>\n      <th>faces_sad</th>\n      <th>faces_surprise</th>\n      <th>text_area</th>\n      <th>text_centroid_x</th>\n      <th>text_centroid_y</th>\n    </tr>\n  </thead>\n  <tbody>\n    <tr>\n      <th>0</th>\n      <td>Jw1Y-zhQURU</td>\n      <td>-1</td>\n      <td>4</td>\n      <td>7</td>\n      <td>0.844573</td>\n      <td>0.007707</td>\n      <td>0.001418</td>\n      <td>0.001312</td>\n      <td>45</td>\n      <td>7</td>\n      <td>...</td>\n      <td>0</td>\n      <td>0</td>\n      <td>0</td>\n      <td>0</td>\n      <td>0</td>\n      <td>0</td>\n      <td>0</td>\n      <td>0.000000</td>\n      <td>NaN</td>\n      <td>NaN</td>\n    </tr>\n    <tr>\n      <th>1</th>\n      <td>3s1rvMFUweQ</td>\n      <td>-1</td>\n      <td>6</td>\n      <td>6</td>\n      <td>0.917645</td>\n      <td>0.024260</td>\n      <td>0.002177</td>\n      <td>0.002617</td>\n      <td>43</td>\n      <td>15</td>\n      <td>...</td>\n      <td>0</td>\n      <td>0</td>\n      <td>0</td>\n      <td>0</td>\n      <td>0</td>\n      <td>0</td>\n      <td>0</td>\n      <td>0.000000</td>\n      <td>NaN</td>\n      <td>NaN</td>\n    </tr>\n    <tr>\n      <th>2</th>\n      <td>n1WpP7iowLc</td>\n      <td>10</td>\n      <td>4</td>\n      <td>17</td>\n      <td>0.947740</td>\n      <td>0.045891</td>\n      <td>0.002531</td>\n      <td>0.007336</td>\n      <td>43</td>\n      <td>13</td>\n      <td>...</td>\n      <td>0</td>\n      <td>0</td>\n      <td>0</td>\n      <td>0</td>\n      <td>0</td>\n      <td>0</td>\n      <td>0</td>\n      <td>0.419853</td>\n      <td>25.809107</td>\n      <td>55.878284</td>\n    </tr>\n    <tr>\n      <th>3</th>\n      <td>PUTEiSjKwJU</td>\n      <td>17</td>\n      <td>0</td>\n      <td>2</td>\n      <td>0.941463</td>\n      <td>0.006934</td>\n      <td>0.000431</td>\n      <td>0.001329</td>\n      <td>76</td>\n      <td>15</td>\n      <td>...</td>\n      <td>0</td>\n      <td>0</td>\n      <td>0</td>\n      <td>0</td>\n      <td>0</td>\n      <td>0</td>\n      <td>0</td>\n      <td>0.000000</td>\n      <td>NaN</td>\n      <td>NaN</td>\n    </tr>\n    <tr>\n      <th>4</th>\n      <td>rHwDegptbI4</td>\n      <td>-1</td>\n      <td>0</td>\n      <td>1</td>\n      <td>0.937500</td>\n      <td>0.003057</td>\n      <td>0.000204</td>\n      <td>0.003057</td>\n      <td>55</td>\n      <td>9</td>\n      <td>...</td>\n      <td>0</td>\n      <td>0</td>\n      <td>0</td>\n      <td>0</td>\n      <td>0</td>\n      <td>0</td>\n      <td>0</td>\n      <td>0.000000</td>\n      <td>NaN</td>\n      <td>NaN</td>\n    </tr>\n    <tr>\n      <th>...</th>\n      <td>...</td>\n      <td>...</td>\n      <td>...</td>\n      <td>...</td>\n      <td>...</td>\n      <td>...</td>\n      <td>...</td>\n      <td>...</td>\n      <td>...</td>\n      <td>...</td>\n      <td>...</td>\n      <td>...</td>\n      <td>...</td>\n      <td>...</td>\n      <td>...</td>\n      <td>...</td>\n      <td>...</td>\n      <td>...</td>\n      <td>...</td>\n      <td>...</td>\n      <td>...</td>\n    </tr>\n    <tr>\n      <th>8602</th>\n      <td>Gi56dSh8Fq8</td>\n      <td>22</td>\n      <td>2</td>\n      <td>18</td>\n      <td>0.753010</td>\n      <td>0.025024</td>\n      <td>0.008208</td>\n      <td>0.005323</td>\n      <td>40</td>\n      <td>8</td>\n      <td>...</td>\n      <td>0</td>\n      <td>0</td>\n      <td>0</td>\n      <td>0</td>\n      <td>0</td>\n      <td>0</td>\n      <td>1</td>\n      <td>0.000000</td>\n      <td>NaN</td>\n      <td>NaN</td>\n    </tr>\n    <tr>\n      <th>8603</th>\n      <td>dS5Thrl-4Kc</td>\n      <td>26</td>\n      <td>1</td>\n      <td>18</td>\n      <td>0.966927</td>\n      <td>0.043077</td>\n      <td>0.001473</td>\n      <td>0.005790</td>\n      <td>29</td>\n      <td>7</td>\n      <td>...</td>\n      <td>0</td>\n      <td>0</td>\n      <td>0</td>\n      <td>0</td>\n      <td>0</td>\n      <td>0</td>\n      <td>1</td>\n      <td>0.000000</td>\n      <td>NaN</td>\n      <td>NaN</td>\n    </tr>\n    <tr>\n      <th>8604</th>\n      <td>JGm9Y_hFqNk</td>\n      <td>17</td>\n      <td>2</td>\n      <td>15</td>\n      <td>0.960105</td>\n      <td>0.009474</td>\n      <td>0.000394</td>\n      <td>0.003082</td>\n      <td>94</td>\n      <td>17</td>\n      <td>...</td>\n      <td>0</td>\n      <td>0</td>\n      <td>1</td>\n      <td>0</td>\n      <td>0</td>\n      <td>0</td>\n      <td>0</td>\n      <td>0.000000</td>\n      <td>NaN</td>\n      <td>NaN</td>\n    </tr>\n    <tr>\n      <th>8605</th>\n      <td>mpnshdmtE2Y</td>\n      <td>26</td>\n      <td>1</td>\n      <td>16</td>\n      <td>0.953487</td>\n      <td>0.026300</td>\n      <td>0.001283</td>\n      <td>0.002242</td>\n      <td>66</td>\n      <td>15</td>\n      <td>...</td>\n      <td>0</td>\n      <td>0</td>\n      <td>0</td>\n      <td>0</td>\n      <td>0</td>\n      <td>0</td>\n      <td>0</td>\n      <td>0.046569</td>\n      <td>58.500000</td>\n      <td>26.500000</td>\n    </tr>\n    <tr>\n      <th>8606</th>\n      <td>yz7Xq3T0YPs</td>\n      <td>24</td>\n      <td>2</td>\n      <td>9</td>\n      <td>0.965211</td>\n      <td>0.027530</td>\n      <td>0.000992</td>\n      <td>0.002579</td>\n      <td>64</td>\n      <td>11</td>\n      <td>...</td>\n      <td>0</td>\n      <td>0</td>\n      <td>0</td>\n      <td>1</td>\n      <td>0</td>\n      <td>0</td>\n      <td>0</td>\n      <td>0.000000</td>\n      <td>NaN</td>\n      <td>NaN</td>\n    </tr>\n  </tbody>\n</table>\n<p>8607 rows × 174 columns</p>\n</div>"
     },
     "metadata": {},
     "execution_count": 2
    }
   ],
   "source": [
    "api_categories = pd.read_csv('../youtube_data/api_categories.csv')\n",
    "trending['category_id'] = api_categories['api_category_id']\n",
    "trending"
   ]
  },
  {
   "cell_type": "code",
   "execution_count": 3,
   "metadata": {
    "scrolled": true
   },
   "outputs": [
    {
     "output_type": "execute_result",
     "data": {
      "text/plain": "         video_id category_id  publish_weekday  publish_hour  like_ratio  \\\n0     JKmXamRF9wM          10                4             4    0.952492   \n1     lp-EO5I60KA          10                1            13    0.957880   \n2     bIB8EWqCPrQ          10                4             7    0.974519   \n3     1BR3ycghvTU          26                2             2    0.978044   \n4     NCJUpiLA8Y0          26                1            20    0.990336   \n...           ...         ...              ...           ...         ...   \n8595  zs4ELJwA5D8           1                1            16    0.814644   \n8596  5uVkKKxDA6c           1                3            14    0.959302   \n8597  QYvh1Cr0yII           1                1            15    0.937918   \n8598  fPi0lnP_u_s           1                3            16    0.974387   \n8599  UImXWiDFAoE           1                6            16    0.965819   \n\n      likes_per_view  dislikes_per_view  comments_per_view  title_num_chars  \\\n0           0.007430           0.000371           0.000248               46   \n1           0.003769           0.000166           0.000105               47   \n2           0.005121           0.000134           0.000208               49   \n3           0.020925           0.000470           0.001477               67   \n4           0.043886           0.000428           0.003710               61   \n...              ...                ...                ...              ...   \n8595        0.015157           0.003449           0.003147               44   \n8596        0.009898           0.000420           0.001360               63   \n8597        0.012900           0.000854           0.001675               58   \n8598        0.034020           0.000894           0.003149               61   \n8599        0.025375           0.000898           0.003977               47   \n\n      title_num_words  ...  faces_angry  faces_disgust  faces_fear  \\\n0                  11  ...            0              0           0   \n1                  10  ...            0              0           0   \n2                   9  ...            0              0           0   \n3                  13  ...            0              0           0   \n4                  12  ...            0              0           0   \n...               ...  ...          ...            ...         ...   \n8595                7  ...            0              0           0   \n8596               11  ...            0              0           0   \n8597               11  ...            0              0           0   \n8598               11  ...            0              0           0   \n8599               10  ...            0              0           0   \n\n      faces_happy  faces_neutral  faces_sad  faces_surprise  text_area  \\\n0               0              0          0               0          0   \n1               0              0          0               0          0   \n2               0              0          0               0          0   \n3               0              0          0               0          0   \n4               0              0          0               0          0   \n...           ...            ...        ...             ...        ...   \n8595            0              0          0               0          0   \n8596            0              0          0               0          0   \n8597            0              0          0               0          0   \n8598            0              0          0               0          0   \n8599            0              0          0               0          0   \n\n      text_centroid_x  text_centroid_y  \n0                 NaN              NaN  \n1                 NaN              NaN  \n2                 NaN              NaN  \n3                 NaN              NaN  \n4                 NaN              NaN  \n...               ...              ...  \n8595              NaN              NaN  \n8596              NaN              NaN  \n8597              NaN              NaN  \n8598              NaN              NaN  \n8599              NaN              NaN  \n\n[8600 rows x 174 columns]",
      "text/html": "<div>\n<style scoped>\n    .dataframe tbody tr th:only-of-type {\n        vertical-align: middle;\n    }\n\n    .dataframe tbody tr th {\n        vertical-align: top;\n    }\n\n    .dataframe thead th {\n        text-align: right;\n    }\n</style>\n<table border=\"1\" class=\"dataframe\">\n  <thead>\n    <tr style=\"text-align: right;\">\n      <th></th>\n      <th>video_id</th>\n      <th>category_id</th>\n      <th>publish_weekday</th>\n      <th>publish_hour</th>\n      <th>like_ratio</th>\n      <th>likes_per_view</th>\n      <th>dislikes_per_view</th>\n      <th>comments_per_view</th>\n      <th>title_num_chars</th>\n      <th>title_num_words</th>\n      <th>...</th>\n      <th>faces_angry</th>\n      <th>faces_disgust</th>\n      <th>faces_fear</th>\n      <th>faces_happy</th>\n      <th>faces_neutral</th>\n      <th>faces_sad</th>\n      <th>faces_surprise</th>\n      <th>text_area</th>\n      <th>text_centroid_x</th>\n      <th>text_centroid_y</th>\n    </tr>\n  </thead>\n  <tbody>\n    <tr>\n      <th>0</th>\n      <td>JKmXamRF9wM</td>\n      <td>10</td>\n      <td>4</td>\n      <td>4</td>\n      <td>0.952492</td>\n      <td>0.007430</td>\n      <td>0.000371</td>\n      <td>0.000248</td>\n      <td>46</td>\n      <td>11</td>\n      <td>...</td>\n      <td>0</td>\n      <td>0</td>\n      <td>0</td>\n      <td>0</td>\n      <td>0</td>\n      <td>0</td>\n      <td>0</td>\n      <td>0</td>\n      <td>NaN</td>\n      <td>NaN</td>\n    </tr>\n    <tr>\n      <th>1</th>\n      <td>lp-EO5I60KA</td>\n      <td>10</td>\n      <td>1</td>\n      <td>13</td>\n      <td>0.957880</td>\n      <td>0.003769</td>\n      <td>0.000166</td>\n      <td>0.000105</td>\n      <td>47</td>\n      <td>10</td>\n      <td>...</td>\n      <td>0</td>\n      <td>0</td>\n      <td>0</td>\n      <td>0</td>\n      <td>0</td>\n      <td>0</td>\n      <td>0</td>\n      <td>0</td>\n      <td>NaN</td>\n      <td>NaN</td>\n    </tr>\n    <tr>\n      <th>2</th>\n      <td>bIB8EWqCPrQ</td>\n      <td>10</td>\n      <td>4</td>\n      <td>7</td>\n      <td>0.974519</td>\n      <td>0.005121</td>\n      <td>0.000134</td>\n      <td>0.000208</td>\n      <td>49</td>\n      <td>9</td>\n      <td>...</td>\n      <td>0</td>\n      <td>0</td>\n      <td>0</td>\n      <td>0</td>\n      <td>0</td>\n      <td>0</td>\n      <td>0</td>\n      <td>0</td>\n      <td>NaN</td>\n      <td>NaN</td>\n    </tr>\n    <tr>\n      <th>3</th>\n      <td>1BR3ycghvTU</td>\n      <td>26</td>\n      <td>2</td>\n      <td>2</td>\n      <td>0.978044</td>\n      <td>0.020925</td>\n      <td>0.000470</td>\n      <td>0.001477</td>\n      <td>67</td>\n      <td>13</td>\n      <td>...</td>\n      <td>0</td>\n      <td>0</td>\n      <td>0</td>\n      <td>0</td>\n      <td>0</td>\n      <td>0</td>\n      <td>0</td>\n      <td>0</td>\n      <td>NaN</td>\n      <td>NaN</td>\n    </tr>\n    <tr>\n      <th>4</th>\n      <td>NCJUpiLA8Y0</td>\n      <td>26</td>\n      <td>1</td>\n      <td>20</td>\n      <td>0.990336</td>\n      <td>0.043886</td>\n      <td>0.000428</td>\n      <td>0.003710</td>\n      <td>61</td>\n      <td>12</td>\n      <td>...</td>\n      <td>0</td>\n      <td>0</td>\n      <td>0</td>\n      <td>0</td>\n      <td>0</td>\n      <td>0</td>\n      <td>0</td>\n      <td>0</td>\n      <td>NaN</td>\n      <td>NaN</td>\n    </tr>\n    <tr>\n      <th>...</th>\n      <td>...</td>\n      <td>...</td>\n      <td>...</td>\n      <td>...</td>\n      <td>...</td>\n      <td>...</td>\n      <td>...</td>\n      <td>...</td>\n      <td>...</td>\n      <td>...</td>\n      <td>...</td>\n      <td>...</td>\n      <td>...</td>\n      <td>...</td>\n      <td>...</td>\n      <td>...</td>\n      <td>...</td>\n      <td>...</td>\n      <td>...</td>\n      <td>...</td>\n      <td>...</td>\n    </tr>\n    <tr>\n      <th>8595</th>\n      <td>zs4ELJwA5D8</td>\n      <td>1</td>\n      <td>1</td>\n      <td>16</td>\n      <td>0.814644</td>\n      <td>0.015157</td>\n      <td>0.003449</td>\n      <td>0.003147</td>\n      <td>44</td>\n      <td>7</td>\n      <td>...</td>\n      <td>0</td>\n      <td>0</td>\n      <td>0</td>\n      <td>0</td>\n      <td>0</td>\n      <td>0</td>\n      <td>0</td>\n      <td>0</td>\n      <td>NaN</td>\n      <td>NaN</td>\n    </tr>\n    <tr>\n      <th>8596</th>\n      <td>5uVkKKxDA6c</td>\n      <td>1</td>\n      <td>3</td>\n      <td>14</td>\n      <td>0.959302</td>\n      <td>0.009898</td>\n      <td>0.000420</td>\n      <td>0.001360</td>\n      <td>63</td>\n      <td>11</td>\n      <td>...</td>\n      <td>0</td>\n      <td>0</td>\n      <td>0</td>\n      <td>0</td>\n      <td>0</td>\n      <td>0</td>\n      <td>0</td>\n      <td>0</td>\n      <td>NaN</td>\n      <td>NaN</td>\n    </tr>\n    <tr>\n      <th>8597</th>\n      <td>QYvh1Cr0yII</td>\n      <td>1</td>\n      <td>1</td>\n      <td>15</td>\n      <td>0.937918</td>\n      <td>0.012900</td>\n      <td>0.000854</td>\n      <td>0.001675</td>\n      <td>58</td>\n      <td>11</td>\n      <td>...</td>\n      <td>0</td>\n      <td>0</td>\n      <td>0</td>\n      <td>0</td>\n      <td>0</td>\n      <td>0</td>\n      <td>0</td>\n      <td>0</td>\n      <td>NaN</td>\n      <td>NaN</td>\n    </tr>\n    <tr>\n      <th>8598</th>\n      <td>fPi0lnP_u_s</td>\n      <td>1</td>\n      <td>3</td>\n      <td>16</td>\n      <td>0.974387</td>\n      <td>0.034020</td>\n      <td>0.000894</td>\n      <td>0.003149</td>\n      <td>61</td>\n      <td>11</td>\n      <td>...</td>\n      <td>0</td>\n      <td>0</td>\n      <td>0</td>\n      <td>0</td>\n      <td>0</td>\n      <td>0</td>\n      <td>0</td>\n      <td>0</td>\n      <td>NaN</td>\n      <td>NaN</td>\n    </tr>\n    <tr>\n      <th>8599</th>\n      <td>UImXWiDFAoE</td>\n      <td>1</td>\n      <td>6</td>\n      <td>16</td>\n      <td>0.965819</td>\n      <td>0.025375</td>\n      <td>0.000898</td>\n      <td>0.003977</td>\n      <td>47</td>\n      <td>10</td>\n      <td>...</td>\n      <td>0</td>\n      <td>0</td>\n      <td>0</td>\n      <td>0</td>\n      <td>0</td>\n      <td>0</td>\n      <td>0</td>\n      <td>0</td>\n      <td>NaN</td>\n      <td>NaN</td>\n    </tr>\n  </tbody>\n</table>\n<p>8600 rows × 174 columns</p>\n</div>"
     },
     "metadata": {},
     "execution_count": 3
    }
   ],
   "source": [
    "non_trending"
   ]
  },
  {
   "cell_type": "code",
   "execution_count": 4,
   "metadata": {},
   "outputs": [
    {
     "output_type": "execute_result",
     "data": {
      "text/plain": "         video_id  category_id  publish_weekday  publish_hour  like_ratio  \\\n0     Jw1Y-zhQURU           -1                4             7    0.844573   \n1     3s1rvMFUweQ           -1                6             6    0.917645   \n2     n1WpP7iowLc           10                4            17    0.947740   \n3     PUTEiSjKwJU           17                0             2    0.941463   \n4     rHwDegptbI4           -1                0             1    0.937500   \n...           ...          ...              ...           ...         ...   \n8595  zs4ELJwA5D8            1                1            16    0.814644   \n8596  5uVkKKxDA6c            1                3            14    0.959302   \n8597  QYvh1Cr0yII            1                1            15    0.937918   \n8598  fPi0lnP_u_s            1                3            16    0.974387   \n8599  UImXWiDFAoE            1                6            16    0.965819   \n\n      likes_per_view  dislikes_per_view  comments_per_view  title_num_chars  \\\n0           0.007707           0.001418           0.001312               45   \n1           0.024260           0.002177           0.002617               43   \n2           0.045891           0.002531           0.007336               43   \n3           0.006934           0.000431           0.001329               76   \n4           0.003057           0.000204           0.003057               55   \n...              ...                ...                ...              ...   \n8595        0.015157           0.003449           0.003147               44   \n8596        0.009898           0.000420           0.001360               63   \n8597        0.012900           0.000854           0.001675               58   \n8598        0.034020           0.000894           0.003149               61   \n8599        0.025375           0.000898           0.003977               47   \n\n      title_num_words  ...  faces_disgust  faces_fear  faces_happy  \\\n0                   7  ...              0           0            0   \n1                  15  ...              0           0            0   \n2                  13  ...              0           0            0   \n3                  15  ...              0           0            0   \n4                   9  ...              0           0            0   \n...               ...  ...            ...         ...          ...   \n8595                7  ...              0           0            0   \n8596               11  ...              0           0            0   \n8597               11  ...              0           0            0   \n8598               11  ...              0           0            0   \n8599               10  ...              0           0            0   \n\n      faces_neutral  faces_sad  faces_surprise  text_area  text_centroid_x  \\\n0                 0          0               0   0.000000              NaN   \n1                 0          0               0   0.000000              NaN   \n2                 0          0               0   0.419853        25.809107   \n3                 0          0               0   0.000000              NaN   \n4                 0          0               0   0.000000              NaN   \n...             ...        ...             ...        ...              ...   \n8595              0          0               0   0.000000              NaN   \n8596              0          0               0   0.000000              NaN   \n8597              0          0               0   0.000000              NaN   \n8598              0          0               0   0.000000              NaN   \n8599              0          0               0   0.000000              NaN   \n\n      text_centroid_y  trending  \n0                 NaN         1  \n1                 NaN         1  \n2           55.878284         1  \n3                 NaN         1  \n4                 NaN         1  \n...               ...       ...  \n8595              NaN         0  \n8596              NaN         0  \n8597              NaN         0  \n8598              NaN         0  \n8599              NaN         0  \n\n[17207 rows x 175 columns]",
      "text/html": "<div>\n<style scoped>\n    .dataframe tbody tr th:only-of-type {\n        vertical-align: middle;\n    }\n\n    .dataframe tbody tr th {\n        vertical-align: top;\n    }\n\n    .dataframe thead th {\n        text-align: right;\n    }\n</style>\n<table border=\"1\" class=\"dataframe\">\n  <thead>\n    <tr style=\"text-align: right;\">\n      <th></th>\n      <th>video_id</th>\n      <th>category_id</th>\n      <th>publish_weekday</th>\n      <th>publish_hour</th>\n      <th>like_ratio</th>\n      <th>likes_per_view</th>\n      <th>dislikes_per_view</th>\n      <th>comments_per_view</th>\n      <th>title_num_chars</th>\n      <th>title_num_words</th>\n      <th>...</th>\n      <th>faces_disgust</th>\n      <th>faces_fear</th>\n      <th>faces_happy</th>\n      <th>faces_neutral</th>\n      <th>faces_sad</th>\n      <th>faces_surprise</th>\n      <th>text_area</th>\n      <th>text_centroid_x</th>\n      <th>text_centroid_y</th>\n      <th>trending</th>\n    </tr>\n  </thead>\n  <tbody>\n    <tr>\n      <th>0</th>\n      <td>Jw1Y-zhQURU</td>\n      <td>-1</td>\n      <td>4</td>\n      <td>7</td>\n      <td>0.844573</td>\n      <td>0.007707</td>\n      <td>0.001418</td>\n      <td>0.001312</td>\n      <td>45</td>\n      <td>7</td>\n      <td>...</td>\n      <td>0</td>\n      <td>0</td>\n      <td>0</td>\n      <td>0</td>\n      <td>0</td>\n      <td>0</td>\n      <td>0.000000</td>\n      <td>NaN</td>\n      <td>NaN</td>\n      <td>1</td>\n    </tr>\n    <tr>\n      <th>1</th>\n      <td>3s1rvMFUweQ</td>\n      <td>-1</td>\n      <td>6</td>\n      <td>6</td>\n      <td>0.917645</td>\n      <td>0.024260</td>\n      <td>0.002177</td>\n      <td>0.002617</td>\n      <td>43</td>\n      <td>15</td>\n      <td>...</td>\n      <td>0</td>\n      <td>0</td>\n      <td>0</td>\n      <td>0</td>\n      <td>0</td>\n      <td>0</td>\n      <td>0.000000</td>\n      <td>NaN</td>\n      <td>NaN</td>\n      <td>1</td>\n    </tr>\n    <tr>\n      <th>2</th>\n      <td>n1WpP7iowLc</td>\n      <td>10</td>\n      <td>4</td>\n      <td>17</td>\n      <td>0.947740</td>\n      <td>0.045891</td>\n      <td>0.002531</td>\n      <td>0.007336</td>\n      <td>43</td>\n      <td>13</td>\n      <td>...</td>\n      <td>0</td>\n      <td>0</td>\n      <td>0</td>\n      <td>0</td>\n      <td>0</td>\n      <td>0</td>\n      <td>0.419853</td>\n      <td>25.809107</td>\n      <td>55.878284</td>\n      <td>1</td>\n    </tr>\n    <tr>\n      <th>3</th>\n      <td>PUTEiSjKwJU</td>\n      <td>17</td>\n      <td>0</td>\n      <td>2</td>\n      <td>0.941463</td>\n      <td>0.006934</td>\n      <td>0.000431</td>\n      <td>0.001329</td>\n      <td>76</td>\n      <td>15</td>\n      <td>...</td>\n      <td>0</td>\n      <td>0</td>\n      <td>0</td>\n      <td>0</td>\n      <td>0</td>\n      <td>0</td>\n      <td>0.000000</td>\n      <td>NaN</td>\n      <td>NaN</td>\n      <td>1</td>\n    </tr>\n    <tr>\n      <th>4</th>\n      <td>rHwDegptbI4</td>\n      <td>-1</td>\n      <td>0</td>\n      <td>1</td>\n      <td>0.937500</td>\n      <td>0.003057</td>\n      <td>0.000204</td>\n      <td>0.003057</td>\n      <td>55</td>\n      <td>9</td>\n      <td>...</td>\n      <td>0</td>\n      <td>0</td>\n      <td>0</td>\n      <td>0</td>\n      <td>0</td>\n      <td>0</td>\n      <td>0.000000</td>\n      <td>NaN</td>\n      <td>NaN</td>\n      <td>1</td>\n    </tr>\n    <tr>\n      <th>...</th>\n      <td>...</td>\n      <td>...</td>\n      <td>...</td>\n      <td>...</td>\n      <td>...</td>\n      <td>...</td>\n      <td>...</td>\n      <td>...</td>\n      <td>...</td>\n      <td>...</td>\n      <td>...</td>\n      <td>...</td>\n      <td>...</td>\n      <td>...</td>\n      <td>...</td>\n      <td>...</td>\n      <td>...</td>\n      <td>...</td>\n      <td>...</td>\n      <td>...</td>\n      <td>...</td>\n    </tr>\n    <tr>\n      <th>8595</th>\n      <td>zs4ELJwA5D8</td>\n      <td>1</td>\n      <td>1</td>\n      <td>16</td>\n      <td>0.814644</td>\n      <td>0.015157</td>\n      <td>0.003449</td>\n      <td>0.003147</td>\n      <td>44</td>\n      <td>7</td>\n      <td>...</td>\n      <td>0</td>\n      <td>0</td>\n      <td>0</td>\n      <td>0</td>\n      <td>0</td>\n      <td>0</td>\n      <td>0.000000</td>\n      <td>NaN</td>\n      <td>NaN</td>\n      <td>0</td>\n    </tr>\n    <tr>\n      <th>8596</th>\n      <td>5uVkKKxDA6c</td>\n      <td>1</td>\n      <td>3</td>\n      <td>14</td>\n      <td>0.959302</td>\n      <td>0.009898</td>\n      <td>0.000420</td>\n      <td>0.001360</td>\n      <td>63</td>\n      <td>11</td>\n      <td>...</td>\n      <td>0</td>\n      <td>0</td>\n      <td>0</td>\n      <td>0</td>\n      <td>0</td>\n      <td>0</td>\n      <td>0.000000</td>\n      <td>NaN</td>\n      <td>NaN</td>\n      <td>0</td>\n    </tr>\n    <tr>\n      <th>8597</th>\n      <td>QYvh1Cr0yII</td>\n      <td>1</td>\n      <td>1</td>\n      <td>15</td>\n      <td>0.937918</td>\n      <td>0.012900</td>\n      <td>0.000854</td>\n      <td>0.001675</td>\n      <td>58</td>\n      <td>11</td>\n      <td>...</td>\n      <td>0</td>\n      <td>0</td>\n      <td>0</td>\n      <td>0</td>\n      <td>0</td>\n      <td>0</td>\n      <td>0.000000</td>\n      <td>NaN</td>\n      <td>NaN</td>\n      <td>0</td>\n    </tr>\n    <tr>\n      <th>8598</th>\n      <td>fPi0lnP_u_s</td>\n      <td>1</td>\n      <td>3</td>\n      <td>16</td>\n      <td>0.974387</td>\n      <td>0.034020</td>\n      <td>0.000894</td>\n      <td>0.003149</td>\n      <td>61</td>\n      <td>11</td>\n      <td>...</td>\n      <td>0</td>\n      <td>0</td>\n      <td>0</td>\n      <td>0</td>\n      <td>0</td>\n      <td>0</td>\n      <td>0.000000</td>\n      <td>NaN</td>\n      <td>NaN</td>\n      <td>0</td>\n    </tr>\n    <tr>\n      <th>8599</th>\n      <td>UImXWiDFAoE</td>\n      <td>1</td>\n      <td>6</td>\n      <td>16</td>\n      <td>0.965819</td>\n      <td>0.025375</td>\n      <td>0.000898</td>\n      <td>0.003977</td>\n      <td>47</td>\n      <td>10</td>\n      <td>...</td>\n      <td>0</td>\n      <td>0</td>\n      <td>0</td>\n      <td>0</td>\n      <td>0</td>\n      <td>0</td>\n      <td>0.000000</td>\n      <td>NaN</td>\n      <td>NaN</td>\n      <td>0</td>\n    </tr>\n  </tbody>\n</table>\n<p>17207 rows × 175 columns</p>\n</div>"
     },
     "metadata": {},
     "execution_count": 4
    }
   ],
   "source": [
    "df = pd.concat([trending.assign(trending=1), non_trending.assign(trending=0)])\n",
    "df"
   ]
  },
  {
   "cell_type": "code",
   "execution_count": 5,
   "metadata": {},
   "outputs": [],
   "source": [
    "from loaders import load_all_videos, load_raw_non_trending\n",
    "\n",
    "# tokens from title/description/tags were helpful for discriminating between categories,\n",
    "# but we need to find differences between trending and non-trending videos this time\n",
    "\n",
    "trending_raw = load_all_videos().drop_duplicates('video_id')\n",
    "non_trending_raw = load_raw_non_trending()\n",
    "\n",
    "text_df = pd.concat([\n",
    "    trending_raw[['video_id', 'title', 'description', 'tags']].assign(trending=1),\n",
    "    non_trending_raw[['video_id', 'title', 'description', 'tags']].assign(trending=0)\n",
    "])\n",
    "text_df.loc[text_df['description'].isna(), 'description'] = ''"
   ]
  },
  {
   "cell_type": "code",
   "execution_count": 6,
   "metadata": {},
   "outputs": [],
   "source": [
    "from sklearn.model_selection import train_test_split\n",
    "\n",
    "train, test = train_test_split(text_df, train_size=0.8)"
   ]
  },
  {
   "cell_type": "code",
   "execution_count": 7,
   "metadata": {
    "tags": [
     "outputPrepend",
     "outputPrepend",
     "outputPrepend",
     "outputPrepend",
     "outputPrepend",
     "outputPrepend",
     "outputPrepend",
     "outputPrepend",
     "outputPrepend",
     "outputPrepend"
    ]
   },
   "outputs": [],
   "source": [
    "import string\n",
    "from sklearn.feature_extraction.text import TfidfVectorizer\n",
    "from nltk.corpus import stopwords\n",
    "\n",
    "stops = set(stopwords.words('english'))\n",
    "stops.update(string.punctuation)\n",
    "\n",
    "title_vec = TfidfVectorizer(stop_words=stops)\n",
    "title_tfidf = title_vec.fit_transform(train['title'])\n",
    "\n",
    "desc_vec = TfidfVectorizer(stop_words=stops)\n",
    "desc_tfidf = desc_vec.fit_transform(train['description'])\n",
    "\n",
    "def parse_tags(value):\n",
    "    if value == '[none]':\n",
    "        return []\n",
    "    if value.startswith('[') and value.endswith(']') and '|' not in value:\n",
    "        return eval(value) # non-trending videos have their tags represented as Python arrays but in strings\n",
    "    return [tag.strip('\"').lower() for tag in value.split('|')]\n",
    "\n",
    "tag_vec = TfidfVectorizer(tokenizer=parse_tags)\n",
    "tag_tfidf = tag_vec.fit_transform(train['tags'])"
   ]
  },
  {
   "cell_type": "code",
   "execution_count": 8,
   "metadata": {},
   "outputs": [],
   "source": [
    "from sklearn.naive_bayes import MultinomialNB\n",
    "from scipy.sparse import hstack\n",
    "\n",
    "train_text = hstack([title_tfidf, desc_tfidf, tag_tfidf])\n",
    "\n",
    "model = MultinomialNB()\n",
    "model.fit(train_text, train['trending'])\n",
    "\n",
    "test_text = hstack([\n",
    "    title_vec.transform(test['title']),\n",
    "    desc_vec.transform(test['description']),\n",
    "    tag_vec.transform(test['tags']),\n",
    "])\n",
    "test_labels = model.predict(test_text)"
   ]
  },
  {
   "cell_type": "code",
   "execution_count": 9,
   "metadata": {},
   "outputs": [
    {
     "output_type": "stream",
     "name": "stdout",
     "text": "precision    recall  f1-score   support\n\n           0       0.79      0.80      0.79      1773\n           1       0.79      0.78      0.78      1708\n\n    accuracy                           0.79      3481\n   macro avg       0.79      0.79      0.79      3481\nweighted avg       0.79      0.79      0.79      3481\n\n[[1412  361]\n [ 377 1331]]\n"
    }
   ],
   "source": [
    "from sklearn.metrics import classification_report, confusion_matrix\n",
    "\n",
    "print(classification_report(test['trending'], test_labels))\n",
    "print(confusion_matrix(test['trending'], test_labels))"
   ]
  },
  {
   "cell_type": "code",
   "execution_count": 10,
   "metadata": {
    "tags": [
     "outputPrepend",
     "outputPrepend",
     "outputPrepend",
     "outputPrepend",
     "outputPrepend",
     "outputPrepend",
     "outputPrepend",
     "outputPrepend",
     "outputPrepend",
     "outputPrepend",
     "outputPrepend",
     "outputPrepend",
     "outputPrepend",
     "outputPrepend",
     "outputPrepend",
     "outputPrepend",
     "outputPrepend",
     "outputPrepend",
     "outputPrepend",
     "outputPrepend",
     "outputPrepend",
     "outputPrepend",
     "outputPrepend",
     "outputPrepend",
     "outputPrepend",
     "outputPrepend",
     "outputPrepend",
     "outputPrepend",
     "outputPrepend",
     "outputPrepend",
     "outputPrepend",
     "outputPrepend",
     "outputPrepend",
     "outputPrepend",
     "outputPrepend",
     "outputPrepend",
     "outputPrepend",
     "outputPrepend",
     "outputPrepend",
     "outputPrepend",
     "outputPrepend",
     "outputPrepend",
     "outputPrepend",
     "outputPrepend",
     "outputPrepend",
     "outputPrepend",
     "outputPrepend",
     "outputPrepend",
     "outputPrepend",
     "outputPrepend",
     "outputPrepend",
     "outputPrepend",
     "outputPrepend",
     "outputPrepend",
     "outputPrepend",
     "outputPrepend",
     "outputPrepend",
     "outputPrepend"
    ]
   },
   "outputs": [],
   "source": [
    "title_tokens = title_vec.get_feature_names()\n",
    "desc_tokens = desc_vec.get_feature_names()\n",
    "tag_tokens = tag_vec.get_feature_names()\n",
    "\n",
    "def top_indices(array, k):\n",
    "    indices = np.argpartition(array, -k)[-k:]\n",
    "    return indices[np.argsort(array[indices])]\n",
    "\n",
    "def get_feature_names(indices):\n",
    "    title_vocab_size = len(title_vec.vocabulary_)\n",
    "    desc_vocab_size = len(desc_vec.vocabulary_)\n",
    "    result = []\n",
    "    for idx in indices:\n",
    "        if idx < title_vocab_size:\n",
    "            result.append(('title', title_tokens[idx]))\n",
    "        else:\n",
    "            idx -= title_vocab_size\n",
    "            if idx < desc_vocab_size:\n",
    "                result.append(('desc', desc_tokens[idx]))\n",
    "            else:\n",
    "                idx -= desc_vocab_size\n",
    "                result.append(('tag', tag_tokens[idx]))\n",
    "    return result\n",
    "\n",
    "top_features = 50"
   ]
  },
  {
   "cell_type": "code",
   "execution_count": 11,
   "metadata": {},
   "outputs": [
    {
     "output_type": "execute_result",
     "data": {
      "text/plain": "[('desc', 'youtu'),\n ('desc', 'kimmel'),\n ('desc', 'amzn'),\n ('desc', 'night'),\n ('desc', '2018'),\n ('title', 'new'),\n ('desc', 'espn'),\n ('title', '2017'),\n ('desc', 'nfollow'),\n ('desc', 'smarturl'),\n ('desc', 'like'),\n ('desc', 'tumblr'),\n ('desc', 'live'),\n ('desc', 'äù'),\n ('desc', 'news'),\n ('desc', 'nhttps'),\n ('desc', 'videos'),\n ('desc', 'channel'),\n ('desc', 'get'),\n ('tag', 'comedy'),\n ('desc', 'new'),\n ('tag', 'funny'),\n ('desc', 'subscribe'),\n ('desc', 'jimmy'),\n ('desc', 'late'),\n ('desc', 'music'),\n ('desc', 'nbc'),\n ('desc', 'follow'),\n ('desc', 'nhttp'),\n ('title', 'trailer'),\n ('title', '2018'),\n ('desc', 'äôs'),\n ('desc', 'us'),\n ('desc', 'watch'),\n ('desc', 'show'),\n ('desc', 'gl'),\n ('desc', 'goo'),\n ('title', 'video'),\n ('desc', 'video'),\n ('title', 'official'),\n ('desc', 'facebook'),\n ('desc', 'instagram'),\n ('desc', 'twitter'),\n ('desc', 'youtube'),\n ('desc', 'bit'),\n ('desc', 'ly'),\n ('desc', 'www'),\n ('desc', 'https'),\n ('desc', 'http'),\n ('desc', 'com')]"
     },
     "metadata": {},
     "execution_count": 11
    }
   ],
   "source": [
    "trending_features = get_feature_names(top_indices(model.feature_log_prob_[1,:], top_features))\n",
    "trending_features"
   ]
  },
  {
   "cell_type": "code",
   "execution_count": 12,
   "metadata": {},
   "outputs": [
    {
     "output_type": "execute_result",
     "data": {
      "text/plain": "[('desc', 'snapchat'),\n ('desc', 'nfl'),\n ('desc', 'late'),\n ('desc', 'tumblr'),\n ('desc', 'first'),\n ('desc', 'co'),\n ('title', 'trailer'),\n ('tag', 'comedy'),\n ('desc', 'nba'),\n ('title', 'vs'),\n ('desc', 'today'),\n ('desc', 'movie'),\n ('desc', 'list'),\n ('desc', 'check'),\n ('title', 'music'),\n ('desc', 'youtu'),\n ('desc', 'jimmy'),\n ('desc', 'official'),\n ('desc', 'news'),\n ('desc', 'smarturl'),\n ('tag', 'funny'),\n ('title', '2018'),\n ('desc', 'espn'),\n ('desc', 'amzn'),\n ('desc', 'new'),\n ('desc', 'videos'),\n ('desc', 'channel'),\n ('desc', 'get'),\n ('desc', 'like'),\n ('desc', 'show'),\n ('desc', 'goo'),\n ('desc', 'gl'),\n ('desc', 'music'),\n ('desc', 'us'),\n ('title', 'video'),\n ('desc', 'subscribe'),\n ('desc', 'video'),\n ('title', 'official'),\n ('desc', 'follow'),\n ('desc', 'watch'),\n ('desc', 'facebook'),\n ('desc', 'instagram'),\n ('desc', 'twitter'),\n ('desc', 'youtube'),\n ('desc', 'ly'),\n ('desc', 'bit'),\n ('desc', 'www'),\n ('desc', 'https'),\n ('desc', 'http'),\n ('desc', 'com')]"
     },
     "metadata": {},
     "execution_count": 12
    }
   ],
   "source": [
    "non_trending_features = get_feature_names(top_indices(model.feature_log_prob_[0,:], top_features))\n",
    "non_trending_features"
   ]
  },
  {
   "cell_type": "code",
   "execution_count": 13,
   "metadata": {},
   "outputs": [
    {
     "output_type": "execute_result",
     "data": {
      "text/plain": "{('desc', '2018'),\n ('desc', 'amzn'),\n ('desc', 'bit'),\n ('desc', 'channel'),\n ('desc', 'check'),\n ('desc', 'co'),\n ('desc', 'com'),\n ('desc', 'espn'),\n ('desc', 'facebook'),\n ('desc', 'first'),\n ('desc', 'follow'),\n ('desc', 'get'),\n ('desc', 'gl'),\n ('desc', 'goo'),\n ('desc', 'http'),\n ('desc', 'https'),\n ('desc', 'instagram'),\n ('desc', 'jimmy'),\n ('desc', 'kimmel'),\n ('desc', 'late'),\n ('desc', 'like'),\n ('desc', 'list'),\n ('desc', 'live'),\n ('desc', 'ly'),\n ('desc', 'movie'),\n ('desc', 'music'),\n ('desc', 'nba'),\n ('desc', 'nbc'),\n ('desc', 'new'),\n ('desc', 'news'),\n ('desc', 'nfl'),\n ('desc', 'nfollow'),\n ('desc', 'nhttp'),\n ('desc', 'nhttps'),\n ('desc', 'night'),\n ('desc', 'official'),\n ('desc', 'show'),\n ('desc', 'smarturl'),\n ('desc', 'snapchat'),\n ('desc', 'subscribe'),\n ('desc', 'today'),\n ('desc', 'tumblr'),\n ('desc', 'twitter'),\n ('desc', 'us'),\n ('desc', 'video'),\n ('desc', 'videos'),\n ('desc', 'watch'),\n ('desc', 'www'),\n ('desc', 'youtu'),\n ('desc', 'youtube'),\n ('desc', 'äôs'),\n ('desc', 'äù'),\n ('tag', 'comedy'),\n ('tag', 'funny'),\n ('title', '2017'),\n ('title', '2018'),\n ('title', 'music'),\n ('title', 'new'),\n ('title', 'official'),\n ('title', 'trailer'),\n ('title', 'video'),\n ('title', 'vs')}"
     },
     "metadata": {},
     "execution_count": 13
    }
   ],
   "source": [
    "meaningful_text_features = set(trending_features) | set(non_trending_features)\n",
    "meaningful_text_features"
   ]
  },
  {
   "cell_type": "code",
   "execution_count": 14,
   "metadata": {},
   "outputs": [
    {
     "output_type": "stream",
     "name": "stdout",
     "text": "['title__made', 'title__mcgowan', 'title__alleg', 'title__cat', 'title__fia', 'title__first', 'title__date', 'title__talk', 'title__music', 'title__school', 'title__2017', 'title__war', 'title__bad', 'title__shoot', 'title__peterson', 'title__hd', 'title__christma', 'title__sexual', 'title__iphon', 'title__play', 'title__vlogma', 'title__jordan', 'title__mind', 'title__audio', 'title__cup', 'title__tweet', 'title__live', 'title__trailer', 'title__surpris', 'title__1', 'title__tech', 'title__game', 'title__fortnit', 'title__video', 'title__lebron', 'title__espn', 'title__offici', 'title__de', 'title__2018', 'title__trump', 'title__day', 'title__gt', 'title__languag', 'title__jame', 'title__macgowan', 'title__new', 'title__shane', 'title__world', 'title__rose', 'description__youtub', 'description__music', 'description__nhttp', 'description__noggin', 'description__deal', 'description__key', 'description__imag', 'description__news', 'description__avail', 'description__tag', 'description__time', 'description__trailer', 'description__truck', 'description__game', 'description__ant', 'description__jimmi', 'description__life', 'description__show', 'description__courtesi', 'description__follow', 'description__new', 'description__gondwana', 'description__watch', 'description__world', 'tag__tutorial', 'tag__qualification race', 'tag__humor', 'tag__ps4', 'tag__sports', 'tag__blocko life noggin', 'tag__comedy', 'tag__red flag', 'tag__cat', 'tag__sports car racing', 'tag__traffic jam', 'tag__drama', 'tag__funny', 'tag__music', 'tag__breaking news', 'tag__talk show', 'tag__educational', 'tag__beauty', 'tag__food', 'tag__metoo', 'tag__ireland', 'tag__highlights', 'tag__animals', 'tag__fashion', \"tag__time's up\", 'tag__happening now', 'tag__nba', 'tag__pets', 'tag__shane macgowan', 'tag__john sheehan', 'tag__the view', 'tag__dublin', 'tag__trailer', 'tag__rap', 'tag__tech', 'tag__animation', 'tag__gaming', 'tag__celebrity', 'tag__unboxing', 'tag__us news', 'tag__basketball', 'tag__movie', 'tag__buzzfeed', 'tag__science', 'tag__nintendo', 'tag__official', 'tag__education', 'tag__pop', 'tag__latest news', 'tag__hollywood', 'tag__technology', 'tag__gameplay', 'tag__how to']\n"
    }
   ],
   "source": [
    "old_token_columns = [col for col in df.columns if '__' in col]\n",
    "print(old_token_columns)\n",
    "\n",
    "df = df.drop(columns=old_token_columns)"
   ]
  },
  {
   "cell_type": "code",
   "execution_count": 15,
   "metadata": {},
   "outputs": [
    {
     "output_type": "execute_result",
     "data": {
      "text/plain": "         video_id  category_id  publish_weekday  publish_hour  \\\n0     Jw1Y-zhQURU           -1                4             7   \n1     3s1rvMFUweQ           -1                6             6   \n2     n1WpP7iowLc           10                4            17   \n3     PUTEiSjKwJU           17                0             2   \n4     rHwDegptbI4           -1                0             1   \n...           ...          ...              ...           ...   \n8595  zs4ELJwA5D8            1                1            16   \n8596  5uVkKKxDA6c            1                3            14   \n8597  QYvh1Cr0yII            1                1            15   \n8598  fPi0lnP_u_s            1                3            16   \n8599  UImXWiDFAoE            1                6            16   \n\n      title_num_chars  title_num_words  title_num_uppercase_words  \\\n0                  45                7                          0   \n1                  43               15                          1   \n2                  43               13                          0   \n3                  76               15                          0   \n4                  55                9                          0   \n...               ...              ...                        ...   \n8595               44                7                          0   \n8596               63               11                          0   \n8597               58               11                          0   \n8598               61               11                          0   \n8599               47               10                          1   \n\n      title_num_question_marks  title_num_exclamation_marks  \\\n0                            0                            0   \n1                            1                            0   \n2                            0                            0   \n3                            0                            1   \n4                            0                            0   \n...                        ...                          ...   \n8595                         0                            0   \n8596                         0                            0   \n8597                         0                            0   \n8598                         0                            0   \n8599                         0                            1   \n\n      title_num_periods  ...  faces_disgust  faces_fear  faces_happy  \\\n0                     0  ...              0           0            0   \n1                     0  ...              0           0            0   \n2                     1  ...              0           0            0   \n3                     0  ...              0           0            0   \n4                     0  ...              0           0            0   \n...                 ...  ...            ...         ...          ...   \n8595                  0  ...              0           0            0   \n8596                  0  ...              0           0            0   \n8597                  0  ...              0           0            0   \n8598                  0  ...              0           0            0   \n8599                  0  ...              0           0            0   \n\n      faces_neutral  faces_sad  faces_surprise  text_area  text_centroid_x  \\\n0                 0          0               0   0.000000              NaN   \n1                 0          0               0   0.000000              NaN   \n2                 0          0               0   0.419853        25.809107   \n3                 0          0               0   0.000000              NaN   \n4                 0          0               0   0.000000              NaN   \n...             ...        ...             ...        ...              ...   \n8595              0          0               0   0.000000              NaN   \n8596              0          0               0   0.000000              NaN   \n8597              0          0               0   0.000000              NaN   \n8598              0          0               0   0.000000              NaN   \n8599              0          0               0   0.000000              NaN   \n\n      text_centroid_y  trending  \n0                 NaN         1  \n1                 NaN         1  \n2           55.878284         1  \n3                 NaN         1  \n4                 NaN         1  \n...               ...       ...  \n8595              NaN         0  \n8596              NaN         0  \n8597              NaN         0  \n8598              NaN         0  \n8599              NaN         0  \n\n[17207 rows x 45 columns]",
      "text/html": "<div>\n<style scoped>\n    .dataframe tbody tr th:only-of-type {\n        vertical-align: middle;\n    }\n\n    .dataframe tbody tr th {\n        vertical-align: top;\n    }\n\n    .dataframe thead th {\n        text-align: right;\n    }\n</style>\n<table border=\"1\" class=\"dataframe\">\n  <thead>\n    <tr style=\"text-align: right;\">\n      <th></th>\n      <th>video_id</th>\n      <th>category_id</th>\n      <th>publish_weekday</th>\n      <th>publish_hour</th>\n      <th>title_num_chars</th>\n      <th>title_num_words</th>\n      <th>title_num_uppercase_words</th>\n      <th>title_num_question_marks</th>\n      <th>title_num_exclamation_marks</th>\n      <th>title_num_periods</th>\n      <th>...</th>\n      <th>faces_disgust</th>\n      <th>faces_fear</th>\n      <th>faces_happy</th>\n      <th>faces_neutral</th>\n      <th>faces_sad</th>\n      <th>faces_surprise</th>\n      <th>text_area</th>\n      <th>text_centroid_x</th>\n      <th>text_centroid_y</th>\n      <th>trending</th>\n    </tr>\n  </thead>\n  <tbody>\n    <tr>\n      <th>0</th>\n      <td>Jw1Y-zhQURU</td>\n      <td>-1</td>\n      <td>4</td>\n      <td>7</td>\n      <td>45</td>\n      <td>7</td>\n      <td>0</td>\n      <td>0</td>\n      <td>0</td>\n      <td>0</td>\n      <td>...</td>\n      <td>0</td>\n      <td>0</td>\n      <td>0</td>\n      <td>0</td>\n      <td>0</td>\n      <td>0</td>\n      <td>0.000000</td>\n      <td>NaN</td>\n      <td>NaN</td>\n      <td>1</td>\n    </tr>\n    <tr>\n      <th>1</th>\n      <td>3s1rvMFUweQ</td>\n      <td>-1</td>\n      <td>6</td>\n      <td>6</td>\n      <td>43</td>\n      <td>15</td>\n      <td>1</td>\n      <td>1</td>\n      <td>0</td>\n      <td>0</td>\n      <td>...</td>\n      <td>0</td>\n      <td>0</td>\n      <td>0</td>\n      <td>0</td>\n      <td>0</td>\n      <td>0</td>\n      <td>0.000000</td>\n      <td>NaN</td>\n      <td>NaN</td>\n      <td>1</td>\n    </tr>\n    <tr>\n      <th>2</th>\n      <td>n1WpP7iowLc</td>\n      <td>10</td>\n      <td>4</td>\n      <td>17</td>\n      <td>43</td>\n      <td>13</td>\n      <td>0</td>\n      <td>0</td>\n      <td>0</td>\n      <td>1</td>\n      <td>...</td>\n      <td>0</td>\n      <td>0</td>\n      <td>0</td>\n      <td>0</td>\n      <td>0</td>\n      <td>0</td>\n      <td>0.419853</td>\n      <td>25.809107</td>\n      <td>55.878284</td>\n      <td>1</td>\n    </tr>\n    <tr>\n      <th>3</th>\n      <td>PUTEiSjKwJU</td>\n      <td>17</td>\n      <td>0</td>\n      <td>2</td>\n      <td>76</td>\n      <td>15</td>\n      <td>0</td>\n      <td>0</td>\n      <td>1</td>\n      <td>0</td>\n      <td>...</td>\n      <td>0</td>\n      <td>0</td>\n      <td>0</td>\n      <td>0</td>\n      <td>0</td>\n      <td>0</td>\n      <td>0.000000</td>\n      <td>NaN</td>\n      <td>NaN</td>\n      <td>1</td>\n    </tr>\n    <tr>\n      <th>4</th>\n      <td>rHwDegptbI4</td>\n      <td>-1</td>\n      <td>0</td>\n      <td>1</td>\n      <td>55</td>\n      <td>9</td>\n      <td>0</td>\n      <td>0</td>\n      <td>0</td>\n      <td>0</td>\n      <td>...</td>\n      <td>0</td>\n      <td>0</td>\n      <td>0</td>\n      <td>0</td>\n      <td>0</td>\n      <td>0</td>\n      <td>0.000000</td>\n      <td>NaN</td>\n      <td>NaN</td>\n      <td>1</td>\n    </tr>\n    <tr>\n      <th>...</th>\n      <td>...</td>\n      <td>...</td>\n      <td>...</td>\n      <td>...</td>\n      <td>...</td>\n      <td>...</td>\n      <td>...</td>\n      <td>...</td>\n      <td>...</td>\n      <td>...</td>\n      <td>...</td>\n      <td>...</td>\n      <td>...</td>\n      <td>...</td>\n      <td>...</td>\n      <td>...</td>\n      <td>...</td>\n      <td>...</td>\n      <td>...</td>\n      <td>...</td>\n      <td>...</td>\n    </tr>\n    <tr>\n      <th>8595</th>\n      <td>zs4ELJwA5D8</td>\n      <td>1</td>\n      <td>1</td>\n      <td>16</td>\n      <td>44</td>\n      <td>7</td>\n      <td>0</td>\n      <td>0</td>\n      <td>0</td>\n      <td>0</td>\n      <td>...</td>\n      <td>0</td>\n      <td>0</td>\n      <td>0</td>\n      <td>0</td>\n      <td>0</td>\n      <td>0</td>\n      <td>0.000000</td>\n      <td>NaN</td>\n      <td>NaN</td>\n      <td>0</td>\n    </tr>\n    <tr>\n      <th>8596</th>\n      <td>5uVkKKxDA6c</td>\n      <td>1</td>\n      <td>3</td>\n      <td>14</td>\n      <td>63</td>\n      <td>11</td>\n      <td>0</td>\n      <td>0</td>\n      <td>0</td>\n      <td>0</td>\n      <td>...</td>\n      <td>0</td>\n      <td>0</td>\n      <td>0</td>\n      <td>0</td>\n      <td>0</td>\n      <td>0</td>\n      <td>0.000000</td>\n      <td>NaN</td>\n      <td>NaN</td>\n      <td>0</td>\n    </tr>\n    <tr>\n      <th>8597</th>\n      <td>QYvh1Cr0yII</td>\n      <td>1</td>\n      <td>1</td>\n      <td>15</td>\n      <td>58</td>\n      <td>11</td>\n      <td>0</td>\n      <td>0</td>\n      <td>0</td>\n      <td>0</td>\n      <td>...</td>\n      <td>0</td>\n      <td>0</td>\n      <td>0</td>\n      <td>0</td>\n      <td>0</td>\n      <td>0</td>\n      <td>0.000000</td>\n      <td>NaN</td>\n      <td>NaN</td>\n      <td>0</td>\n    </tr>\n    <tr>\n      <th>8598</th>\n      <td>fPi0lnP_u_s</td>\n      <td>1</td>\n      <td>3</td>\n      <td>16</td>\n      <td>61</td>\n      <td>11</td>\n      <td>0</td>\n      <td>0</td>\n      <td>0</td>\n      <td>0</td>\n      <td>...</td>\n      <td>0</td>\n      <td>0</td>\n      <td>0</td>\n      <td>0</td>\n      <td>0</td>\n      <td>0</td>\n      <td>0.000000</td>\n      <td>NaN</td>\n      <td>NaN</td>\n      <td>0</td>\n    </tr>\n    <tr>\n      <th>8599</th>\n      <td>UImXWiDFAoE</td>\n      <td>1</td>\n      <td>6</td>\n      <td>16</td>\n      <td>47</td>\n      <td>10</td>\n      <td>1</td>\n      <td>0</td>\n      <td>1</td>\n      <td>0</td>\n      <td>...</td>\n      <td>0</td>\n      <td>0</td>\n      <td>0</td>\n      <td>0</td>\n      <td>0</td>\n      <td>0</td>\n      <td>0.000000</td>\n      <td>NaN</td>\n      <td>NaN</td>\n      <td>0</td>\n    </tr>\n  </tbody>\n</table>\n<p>17207 rows × 45 columns</p>\n</div>"
     },
     "metadata": {},
     "execution_count": 15
    }
   ],
   "source": [
    "df = df.drop(columns=['like_ratio', 'likes_per_view', 'dislikes_per_view', 'comments_per_view'])\n",
    "df"
   ]
  },
  {
   "cell_type": "code",
   "execution_count": 16,
   "metadata": {},
   "outputs": [],
   "source": [
    "df = df[df['category_id'] > -1]"
   ]
  },
  {
   "cell_type": "code",
   "execution_count": 17,
   "metadata": {},
   "outputs": [
    {
     "output_type": "execute_result",
     "data": {
      "text/plain": "         video_id  desc__get  title__music  desc__live  desc__co  desc__äù  \\\n0     Jw1Y-zhQURU          1             0           0         1         0   \n1     3s1rvMFUweQ          1             0           1         1         0   \n2     n1WpP7iowLc          0             0           0         1         0   \n3     PUTEiSjKwJU          0             0           0         1         0   \n4     rHwDegptbI4          1             0           0         0         0   \n...           ...        ...           ...         ...       ...       ...   \n8793  zs4ELJwA5D8          1             0           0         1         0   \n8794  5uVkKKxDA6c          0             0           0         1         0   \n8795  QYvh1Cr0yII          1             0           0         1         0   \n8796  fPi0lnP_u_s          0             0           0         1         0   \n8797  UImXWiDFAoE          0             0           0         1         0   \n\n      title__2018  desc__jimmy  desc__smarturl  desc__nbc  ...  desc__kimmel  \\\n0               0            0               0          0  ...             0   \n1               0            0               0          1  ...             0   \n2               0            0               0          0  ...             0   \n3               0            0               0          0  ...             0   \n4               0            0               0          0  ...             0   \n...           ...          ...             ...        ...  ...           ...   \n8793            0            0               0          0  ...             0   \n8794            0            0               0          0  ...             0   \n8795            0            0               0          0  ...             0   \n8796            0            0               0          0  ...             0   \n8797            0            0               0          0  ...             0   \n\n      desc__youtube  desc__www  desc__nfl  title__2017  desc__late  \\\n0                 0          1          0            1           0   \n1                 0          1          0            0           0   \n2                 0          0          0            0           0   \n3                 1          1          0            0           0   \n4                 0          0          0            0           0   \n...             ...        ...        ...          ...         ...   \n8793              1          1          0            0           0   \n8794              0          0          0            0           0   \n8795              1          1          0            0           0   \n8796              1          1          0            0           1   \n8797              0          1          0            0           0   \n\n      desc__subscribe  title__video  desc__http  desc__goo  \n0                   1             0           1          1  \n1                   0             0           1          0  \n2                   1             0           1          1  \n3                   1             0           1          0  \n4                   0             0           0          0  \n...               ...           ...         ...        ...  \n8793                0             0           1          0  \n8794                0             0           1          0  \n8795                0             0           1          0  \n8796                0             0           1          0  \n8797                1             0           1          1  \n\n[17405 rows x 63 columns]",
      "text/html": "<div>\n<style scoped>\n    .dataframe tbody tr th:only-of-type {\n        vertical-align: middle;\n    }\n\n    .dataframe tbody tr th {\n        vertical-align: top;\n    }\n\n    .dataframe thead th {\n        text-align: right;\n    }\n</style>\n<table border=\"1\" class=\"dataframe\">\n  <thead>\n    <tr style=\"text-align: right;\">\n      <th></th>\n      <th>video_id</th>\n      <th>desc__get</th>\n      <th>title__music</th>\n      <th>desc__live</th>\n      <th>desc__co</th>\n      <th>desc__äù</th>\n      <th>title__2018</th>\n      <th>desc__jimmy</th>\n      <th>desc__smarturl</th>\n      <th>desc__nbc</th>\n      <th>...</th>\n      <th>desc__kimmel</th>\n      <th>desc__youtube</th>\n      <th>desc__www</th>\n      <th>desc__nfl</th>\n      <th>title__2017</th>\n      <th>desc__late</th>\n      <th>desc__subscribe</th>\n      <th>title__video</th>\n      <th>desc__http</th>\n      <th>desc__goo</th>\n    </tr>\n  </thead>\n  <tbody>\n    <tr>\n      <th>0</th>\n      <td>Jw1Y-zhQURU</td>\n      <td>1</td>\n      <td>0</td>\n      <td>0</td>\n      <td>1</td>\n      <td>0</td>\n      <td>0</td>\n      <td>0</td>\n      <td>0</td>\n      <td>0</td>\n      <td>...</td>\n      <td>0</td>\n      <td>0</td>\n      <td>1</td>\n      <td>0</td>\n      <td>1</td>\n      <td>0</td>\n      <td>1</td>\n      <td>0</td>\n      <td>1</td>\n      <td>1</td>\n    </tr>\n    <tr>\n      <th>1</th>\n      <td>3s1rvMFUweQ</td>\n      <td>1</td>\n      <td>0</td>\n      <td>1</td>\n      <td>1</td>\n      <td>0</td>\n      <td>0</td>\n      <td>0</td>\n      <td>0</td>\n      <td>1</td>\n      <td>...</td>\n      <td>0</td>\n      <td>0</td>\n      <td>1</td>\n      <td>0</td>\n      <td>0</td>\n      <td>0</td>\n      <td>0</td>\n      <td>0</td>\n      <td>1</td>\n      <td>0</td>\n    </tr>\n    <tr>\n      <th>2</th>\n      <td>n1WpP7iowLc</td>\n      <td>0</td>\n      <td>0</td>\n      <td>0</td>\n      <td>1</td>\n      <td>0</td>\n      <td>0</td>\n      <td>0</td>\n      <td>0</td>\n      <td>0</td>\n      <td>...</td>\n      <td>0</td>\n      <td>0</td>\n      <td>0</td>\n      <td>0</td>\n      <td>0</td>\n      <td>0</td>\n      <td>1</td>\n      <td>0</td>\n      <td>1</td>\n      <td>1</td>\n    </tr>\n    <tr>\n      <th>3</th>\n      <td>PUTEiSjKwJU</td>\n      <td>0</td>\n      <td>0</td>\n      <td>0</td>\n      <td>1</td>\n      <td>0</td>\n      <td>0</td>\n      <td>0</td>\n      <td>0</td>\n      <td>0</td>\n      <td>...</td>\n      <td>0</td>\n      <td>1</td>\n      <td>1</td>\n      <td>0</td>\n      <td>0</td>\n      <td>0</td>\n      <td>1</td>\n      <td>0</td>\n      <td>1</td>\n      <td>0</td>\n    </tr>\n    <tr>\n      <th>4</th>\n      <td>rHwDegptbI4</td>\n      <td>1</td>\n      <td>0</td>\n      <td>0</td>\n      <td>0</td>\n      <td>0</td>\n      <td>0</td>\n      <td>0</td>\n      <td>0</td>\n      <td>0</td>\n      <td>...</td>\n      <td>0</td>\n      <td>0</td>\n      <td>0</td>\n      <td>0</td>\n      <td>0</td>\n      <td>0</td>\n      <td>0</td>\n      <td>0</td>\n      <td>0</td>\n      <td>0</td>\n    </tr>\n    <tr>\n      <th>...</th>\n      <td>...</td>\n      <td>...</td>\n      <td>...</td>\n      <td>...</td>\n      <td>...</td>\n      <td>...</td>\n      <td>...</td>\n      <td>...</td>\n      <td>...</td>\n      <td>...</td>\n      <td>...</td>\n      <td>...</td>\n      <td>...</td>\n      <td>...</td>\n      <td>...</td>\n      <td>...</td>\n      <td>...</td>\n      <td>...</td>\n      <td>...</td>\n      <td>...</td>\n      <td>...</td>\n    </tr>\n    <tr>\n      <th>8793</th>\n      <td>zs4ELJwA5D8</td>\n      <td>1</td>\n      <td>0</td>\n      <td>0</td>\n      <td>1</td>\n      <td>0</td>\n      <td>0</td>\n      <td>0</td>\n      <td>0</td>\n      <td>0</td>\n      <td>...</td>\n      <td>0</td>\n      <td>1</td>\n      <td>1</td>\n      <td>0</td>\n      <td>0</td>\n      <td>0</td>\n      <td>0</td>\n      <td>0</td>\n      <td>1</td>\n      <td>0</td>\n    </tr>\n    <tr>\n      <th>8794</th>\n      <td>5uVkKKxDA6c</td>\n      <td>0</td>\n      <td>0</td>\n      <td>0</td>\n      <td>1</td>\n      <td>0</td>\n      <td>0</td>\n      <td>0</td>\n      <td>0</td>\n      <td>0</td>\n      <td>...</td>\n      <td>0</td>\n      <td>0</td>\n      <td>0</td>\n      <td>0</td>\n      <td>0</td>\n      <td>0</td>\n      <td>0</td>\n      <td>0</td>\n      <td>1</td>\n      <td>0</td>\n    </tr>\n    <tr>\n      <th>8795</th>\n      <td>QYvh1Cr0yII</td>\n      <td>1</td>\n      <td>0</td>\n      <td>0</td>\n      <td>1</td>\n      <td>0</td>\n      <td>0</td>\n      <td>0</td>\n      <td>0</td>\n      <td>0</td>\n      <td>...</td>\n      <td>0</td>\n      <td>1</td>\n      <td>1</td>\n      <td>0</td>\n      <td>0</td>\n      <td>0</td>\n      <td>0</td>\n      <td>0</td>\n      <td>1</td>\n      <td>0</td>\n    </tr>\n    <tr>\n      <th>8796</th>\n      <td>fPi0lnP_u_s</td>\n      <td>0</td>\n      <td>0</td>\n      <td>0</td>\n      <td>1</td>\n      <td>0</td>\n      <td>0</td>\n      <td>0</td>\n      <td>0</td>\n      <td>0</td>\n      <td>...</td>\n      <td>0</td>\n      <td>1</td>\n      <td>1</td>\n      <td>0</td>\n      <td>0</td>\n      <td>1</td>\n      <td>0</td>\n      <td>0</td>\n      <td>1</td>\n      <td>0</td>\n    </tr>\n    <tr>\n      <th>8797</th>\n      <td>UImXWiDFAoE</td>\n      <td>0</td>\n      <td>0</td>\n      <td>0</td>\n      <td>1</td>\n      <td>0</td>\n      <td>0</td>\n      <td>0</td>\n      <td>0</td>\n      <td>0</td>\n      <td>...</td>\n      <td>0</td>\n      <td>0</td>\n      <td>1</td>\n      <td>0</td>\n      <td>0</td>\n      <td>0</td>\n      <td>1</td>\n      <td>0</td>\n      <td>1</td>\n      <td>1</td>\n    </tr>\n  </tbody>\n</table>\n<p>17405 rows × 63 columns</p>\n</div>"
     },
     "metadata": {},
     "execution_count": 17
    }
   ],
   "source": [
    "tokens_df = pd.DataFrame(data={ 'video_id': text_df['video_id'] })\n",
    "\n",
    "for attr, token in meaningful_text_features:\n",
    "    column = { 'title': 'title', 'desc': 'description', 'tag': 'tags' }[attr]\n",
    "    tokens_df[f\"{attr}__{token}\"] = text_df[column].apply(lambda text: int(token in text.lower()))\n",
    "\n",
    "tokens_df"
   ]
  },
  {
   "cell_type": "code",
   "execution_count": 18,
   "metadata": {},
   "outputs": [],
   "source": [
    "df = df.set_index('video_id').join(tokens_df.set_index('video_id'), on='video_id', how='inner')"
   ]
  },
  {
   "cell_type": "code",
   "execution_count": 19,
   "metadata": {},
   "outputs": [],
   "source": [
    "df.loc[df['text_centroid_x'].isna(), 'text_centroid_x'] = -100\n",
    "df.loc[df['text_centroid_y'].isna(), 'text_centroid_y'] = -100\n",
    "\n",
    "df = df.fillna(0)"
   ]
  },
  {
   "cell_type": "code",
   "execution_count": 20,
   "metadata": {},
   "outputs": [],
   "source": [
    "train, test = train_test_split(df, train_size=0.8)"
   ]
  },
  {
   "cell_type": "code",
   "execution_count": 21,
   "metadata": {},
   "outputs": [
    {
     "output_type": "execute_result",
     "data": {
      "text/plain": "DecisionTreeClassifier(ccp_alpha=0.0, class_weight=None, criterion='gini',\n                       max_depth=None, max_features=None, max_leaf_nodes=None,\n                       min_impurity_decrease=0.0, min_impurity_split=None,\n                       min_samples_leaf=1, min_samples_split=2,\n                       min_weight_fraction_leaf=0.0, presort='deprecated',\n                       random_state=None, splitter='best')"
     },
     "metadata": {},
     "execution_count": 21
    }
   ],
   "source": [
    "from sklearn.ensemble import RandomForestClassifier\n",
    "from sklearn.tree import DecisionTreeClassifier\n",
    "\n",
    "model = DecisionTreeClassifier()\n",
    "model.fit(train.drop(columns='trending'), train['trending'])"
   ]
  },
  {
   "cell_type": "code",
   "execution_count": 22,
   "metadata": {},
   "outputs": [
    {
     "output_type": "stream",
     "name": "stdout",
     "text": "precision    recall  f1-score   support\n\n           0       1.00      1.00      1.00      1763\n           1       1.00      1.00      1.00      1584\n\n    accuracy                           1.00      3347\n   macro avg       1.00      1.00      1.00      3347\nweighted avg       1.00      1.00      1.00      3347\n\n[[1758    5]\n [   2 1582]]\n"
    }
   ],
   "source": [
    "test_labels = model.predict(test.drop(columns='trending'))\n",
    "\n",
    "print(classification_report(test['trending'], test_labels))\n",
    "print(confusion_matrix(test['trending'], test_labels))"
   ]
  },
  {
   "cell_type": "code",
   "execution_count": 23,
   "metadata": {},
   "outputs": [
    {
     "output_type": "stream",
     "name": "stdout",
     "text": "|--- l1 <= 0.50\n|   |--- has_image <= 0.50\n|   |   |--- desc__äôs <= 0.50\n|   |   |   |--- desc__nhttp <= 0.50\n|   |   |   |   |--- title_num_numbers <= 7.00\n|   |   |   |   |   |--- desc__äù <= 0.50\n|   |   |   |   |   |   |--- description_num_chars <= 77.50\n|   |   |   |   |   |   |   |--- desc__instagram <= 0.50\n|   |   |   |   |   |   |   |   |--- title_num_words <= 18.50\n|   |   |   |   |   |   |   |   |   |--- desc__2018 <= 0.50\n|   |   |   |   |   |   |   |   |   |   |--- description_num_chars <= 75.50\n|   |   |   |   |   |   |   |   |   |   |   |--- truncated branch of depth 6\n|   |   |   |   |   |   |   |   |   |   |--- description_num_chars >  75.50\n|   |   |   |   |   |   |   |   |   |   |   |--- truncated branch of depth 4\n|   |   |   |   |   |   |   |   |   |--- desc__2018 >  0.50\n|   |   |   |   |   |   |   |   |   |   |--- description_num_chars <= 47.00\n|   |   |   |   |   |   |   |   |   |   |   |--- class: 1\n|   |   |   |   |   |   |   |   |   |   |--- description_num_chars >  47.00\n|   |   |   |   |   |   |   |   |   |   |   |--- class: 0\n|   |   |   |   |   |   |   |   |--- title_num_words >  18.50\n|   |   |   |   |   |   |   |   |   |--- publish_hour <= 10.00\n|   |   |   |   |   |   |   |   |   |   |--- title_num_chars <= 97.00\n|   |   |   |   |   |   |   |   |   |   |   |--- class: 1\n|   |   |   |   |   |   |   |   |   |   |--- title_num_chars >  97.00\n|   |   |   |   |   |   |   |   |   |   |   |--- class: 0\n|   |   |   |   |   |   |   |   |   |--- publish_hour >  10.00\n|   |   |   |   |   |   |   |   |   |   |--- class: 0\n|   |   |   |   |   |   |   |--- desc__instagram >  0.50\n|   |   |   |   |   |   |   |   |--- publish_weekday <= 2.50\n|   |   |   |   |   |   |   |   |   |--- class: 1\n|   |   |   |   |   |   |   |   |--- publish_weekday >  2.50\n|   |   |   |   |   |   |   |   |   |--- class: 0\n|   |   |   |   |   |   |--- description_num_chars >  77.50\n|   |   |   |   |   |   |   |--- desc__2018 <= 0.50\n|   |   |   |   |   |   |   |   |--- title_sentiment <= -0.80\n|   |   |   |   |   |   |   |   |   |--- title_num_uppercase_words <= 6.50\n|   |   |   |   |   |   |   |   |   |   |--- class: 0\n|   |   |   |   |   |   |   |   |   |--- title_num_uppercase_words >  6.50\n|   |   |   |   |   |   |   |   |   |   |--- desc__goo <= 0.50\n|   |   |   |   |   |   |   |   |   |   |   |--- class: 0\n|   |   |   |   |   |   |   |   |   |   |--- desc__goo >  0.50\n|   |   |   |   |   |   |   |   |   |   |   |--- class: 1\n|   |   |   |   |   |   |   |   |--- title_sentiment >  -0.80\n|   |   |   |   |   |   |   |   |   |--- tag__comedy <= 0.50\n|   |   |   |   |   |   |   |   |   |   |--- title_sentiment <= -0.32\n|   |   |   |   |   |   |   |   |   |   |   |--- truncated branch of depth 5\n|   |   |   |   |   |   |   |   |   |   |--- title_sentiment >  -0.32\n|   |   |   |   |   |   |   |   |   |   |   |--- truncated branch of depth 6\n|   |   |   |   |   |   |   |   |   |--- tag__comedy >  0.50\n|   |   |   |   |   |   |   |   |   |   |--- title_sentiment <= 0.67\n|   |   |   |   |   |   |   |   |   |   |   |--- truncated branch of depth 5\n|   |   |   |   |   |   |   |   |   |   |--- title_sentiment >  0.67\n|   |   |   |   |   |   |   |   |   |   |   |--- truncated branch of depth 3\n|   |   |   |   |   |   |   |--- desc__2018 >  0.50\n|   |   |   |   |   |   |   |   |--- title_num_numbers <= 4.50\n|   |   |   |   |   |   |   |   |   |--- desc__nbc <= 0.50\n|   |   |   |   |   |   |   |   |   |   |--- desc__co <= 0.50\n|   |   |   |   |   |   |   |   |   |   |   |--- truncated branch of depth 4\n|   |   |   |   |   |   |   |   |   |   |--- desc__co >  0.50\n|   |   |   |   |   |   |   |   |   |   |   |--- truncated branch of depth 5\n|   |   |   |   |   |   |   |   |   |--- desc__nbc >  0.50\n|   |   |   |   |   |   |   |   |   |   |--- desc__get <= 0.50\n|   |   |   |   |   |   |   |   |   |   |   |--- class: 0\n|   |   |   |   |   |   |   |   |   |   |--- desc__get >  0.50\n|   |   |   |   |   |   |   |   |   |   |   |--- class: 1\n|   |   |   |   |   |   |   |   |--- title_num_numbers >  4.50\n|   |   |   |   |   |   |   |   |   |--- desc__co <= 0.50\n|   |   |   |   |   |   |   |   |   |   |--- class: 1\n|   |   |   |   |   |   |   |   |   |--- desc__co >  0.50\n|   |   |   |   |   |   |   |   |   |   |--- class: 0\n|   |   |   |   |   |--- desc__äù >  0.50\n|   |   |   |   |   |   |--- class: 1\n|   |   |   |   |--- title_num_numbers >  7.00\n|   |   |   |   |   |--- class: 1\n|   |   |   |--- desc__nhttp >  0.50\n|   |   |   |   |--- class: 1\n|   |   |--- desc__äôs >  0.50\n|   |   |   |--- class: 1\n|   |--- has_image >  0.50\n|   |   |--- class: 1\n|--- l1 >  0.50\n|   |--- class: 1\n\n"
    }
   ],
   "source": [
    "from sklearn.tree import export_text\n",
    "\n",
    "feature_names = [col for col in df.columns if col != 'trending']\n",
    "print(export_text(model, feature_names=feature_names))"
   ]
  }
 ],
 "metadata": {
  "kernelspec": {
   "display_name": "Python 3",
   "language": "python",
   "name": "python3"
  },
  "language_info": {
   "codemirror_mode": {
    "name": "ipython",
    "version": 3
   },
   "file_extension": ".py",
   "mimetype": "text/x-python",
   "name": "python",
   "nbconvert_exporter": "python",
   "pygments_lexer": "ipython3",
   "version": "3.6.9-final"
  }
 },
 "nbformat": 4,
 "nbformat_minor": 4
}