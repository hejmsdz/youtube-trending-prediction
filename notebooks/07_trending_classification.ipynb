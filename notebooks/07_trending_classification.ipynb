{
 "cells": [
  {
   "cell_type": "code",
   "execution_count": 1,
   "metadata": {
    "scrolled": true
   },
   "outputs": [],
   "source": [
    "import pandas as pd\n",
    "import numpy as np\n",
    "import matplotlib.pyplot as plt\n",
    "import seaborn as sns\n",
    "sns.set()\n",
    "\n",
    "from loaders import load_features, load_non_trending_features\n",
    "\n",
    "trending = load_features()\n",
    "non_trending = load_non_trending_features()"
   ]
  },
  {
   "cell_type": "code",
   "execution_count": 2,
   "metadata": {},
   "outputs": [
    {
     "output_type": "execute_result",
     "data": {
      "text/plain": "         video_id  category_id  publish_weekday  publish_hour  like_ratio  \\\n0     Jw1Y-zhQURU           -1                4             7    0.844573   \n1     3s1rvMFUweQ           -1                6             6    0.917645   \n2     n1WpP7iowLc           10                4            17    0.947740   \n3     PUTEiSjKwJU           17                0             2    0.941463   \n4     rHwDegptbI4           -1                0             1    0.937500   \n...           ...          ...              ...           ...         ...   \n8602  Gi56dSh8Fq8           22                2            18    0.753010   \n8603  dS5Thrl-4Kc           26                1            18    0.966927   \n8604  JGm9Y_hFqNk           17                2            15    0.960105   \n8605  mpnshdmtE2Y           26                1            16    0.953487   \n8606  yz7Xq3T0YPs           24                2             9    0.965211   \n\n      likes_per_view  dislikes_per_view  comments_per_view  title_num_chars  \\\n0           0.007707           0.001418           0.001312               45   \n1           0.024260           0.002177           0.002617               43   \n2           0.045891           0.002531           0.007336               43   \n3           0.006934           0.000431           0.001329               76   \n4           0.003057           0.000204           0.003057               55   \n...              ...                ...                ...              ...   \n8602        0.025024           0.008208           0.005323               40   \n8603        0.043077           0.001473           0.005790               29   \n8604        0.009474           0.000394           0.003082               94   \n8605        0.026300           0.001283           0.002242               66   \n8606        0.027530           0.000992           0.002579               64   \n\n      title_num_words  ...  faces_angry  faces_disgust  faces_fear  \\\n0                   7  ...            0              0           0   \n1                  15  ...            0              0           0   \n2                  13  ...            0              0           0   \n3                  15  ...            0              0           0   \n4                   9  ...            0              0           0   \n...               ...  ...          ...            ...         ...   \n8602                8  ...            0              0           0   \n8603                7  ...            0              0           0   \n8604               17  ...            0              0           1   \n8605               15  ...            0              0           0   \n8606               11  ...            0              0           0   \n\n      faces_happy  faces_neutral  faces_sad  faces_surprise  text_area  \\\n0               0              0          0               0   0.000000   \n1               0              0          0               0   0.000000   \n2               0              0          0               0   0.419853   \n3               0              0          0               0   0.000000   \n4               0              0          0               0   0.000000   \n...           ...            ...        ...             ...        ...   \n8602            0              0          0               1   0.000000   \n8603            0              0          0               1   0.000000   \n8604            0              0          0               0   0.000000   \n8605            0              0          0               0   0.046569   \n8606            1              0          0               0   0.000000   \n\n      text_centroid_x  text_centroid_y  \n0                 NaN              NaN  \n1                 NaN              NaN  \n2           25.809107        55.878284  \n3                 NaN              NaN  \n4                 NaN              NaN  \n...               ...              ...  \n8602              NaN              NaN  \n8603              NaN              NaN  \n8604              NaN              NaN  \n8605        58.500000        26.500000  \n8606              NaN              NaN  \n\n[8607 rows x 174 columns]",
      "text/html": "<div>\n<style scoped>\n    .dataframe tbody tr th:only-of-type {\n        vertical-align: middle;\n    }\n\n    .dataframe tbody tr th {\n        vertical-align: top;\n    }\n\n    .dataframe thead th {\n        text-align: right;\n    }\n</style>\n<table border=\"1\" class=\"dataframe\">\n  <thead>\n    <tr style=\"text-align: right;\">\n      <th></th>\n      <th>video_id</th>\n      <th>category_id</th>\n      <th>publish_weekday</th>\n      <th>publish_hour</th>\n      <th>like_ratio</th>\n      <th>likes_per_view</th>\n      <th>dislikes_per_view</th>\n      <th>comments_per_view</th>\n      <th>title_num_chars</th>\n      <th>title_num_words</th>\n      <th>...</th>\n      <th>faces_angry</th>\n      <th>faces_disgust</th>\n      <th>faces_fear</th>\n      <th>faces_happy</th>\n      <th>faces_neutral</th>\n      <th>faces_sad</th>\n      <th>faces_surprise</th>\n      <th>text_area</th>\n      <th>text_centroid_x</th>\n      <th>text_centroid_y</th>\n    </tr>\n  </thead>\n  <tbody>\n    <tr>\n      <th>0</th>\n      <td>Jw1Y-zhQURU</td>\n      <td>-1</td>\n      <td>4</td>\n      <td>7</td>\n      <td>0.844573</td>\n      <td>0.007707</td>\n      <td>0.001418</td>\n      <td>0.001312</td>\n      <td>45</td>\n      <td>7</td>\n      <td>...</td>\n      <td>0</td>\n      <td>0</td>\n      <td>0</td>\n      <td>0</td>\n      <td>0</td>\n      <td>0</td>\n      <td>0</td>\n      <td>0.000000</td>\n      <td>NaN</td>\n      <td>NaN</td>\n    </tr>\n    <tr>\n      <th>1</th>\n      <td>3s1rvMFUweQ</td>\n      <td>-1</td>\n      <td>6</td>\n      <td>6</td>\n      <td>0.917645</td>\n      <td>0.024260</td>\n      <td>0.002177</td>\n      <td>0.002617</td>\n      <td>43</td>\n      <td>15</td>\n      <td>...</td>\n      <td>0</td>\n      <td>0</td>\n      <td>0</td>\n      <td>0</td>\n      <td>0</td>\n      <td>0</td>\n      <td>0</td>\n      <td>0.000000</td>\n      <td>NaN</td>\n      <td>NaN</td>\n    </tr>\n    <tr>\n      <th>2</th>\n      <td>n1WpP7iowLc</td>\n      <td>10</td>\n      <td>4</td>\n      <td>17</td>\n      <td>0.947740</td>\n      <td>0.045891</td>\n      <td>0.002531</td>\n      <td>0.007336</td>\n      <td>43</td>\n      <td>13</td>\n      <td>...</td>\n      <td>0</td>\n      <td>0</td>\n      <td>0</td>\n      <td>0</td>\n      <td>0</td>\n      <td>0</td>\n      <td>0</td>\n      <td>0.419853</td>\n      <td>25.809107</td>\n      <td>55.878284</td>\n    </tr>\n    <tr>\n      <th>3</th>\n      <td>PUTEiSjKwJU</td>\n      <td>17</td>\n      <td>0</td>\n      <td>2</td>\n      <td>0.941463</td>\n      <td>0.006934</td>\n      <td>0.000431</td>\n      <td>0.001329</td>\n      <td>76</td>\n      <td>15</td>\n      <td>...</td>\n      <td>0</td>\n      <td>0</td>\n      <td>0</td>\n      <td>0</td>\n      <td>0</td>\n      <td>0</td>\n      <td>0</td>\n      <td>0.000000</td>\n      <td>NaN</td>\n      <td>NaN</td>\n    </tr>\n    <tr>\n      <th>4</th>\n      <td>rHwDegptbI4</td>\n      <td>-1</td>\n      <td>0</td>\n      <td>1</td>\n      <td>0.937500</td>\n      <td>0.003057</td>\n      <td>0.000204</td>\n      <td>0.003057</td>\n      <td>55</td>\n      <td>9</td>\n      <td>...</td>\n      <td>0</td>\n      <td>0</td>\n      <td>0</td>\n      <td>0</td>\n      <td>0</td>\n      <td>0</td>\n      <td>0</td>\n      <td>0.000000</td>\n      <td>NaN</td>\n      <td>NaN</td>\n    </tr>\n    <tr>\n      <th>...</th>\n      <td>...</td>\n      <td>...</td>\n      <td>...</td>\n      <td>...</td>\n      <td>...</td>\n      <td>...</td>\n      <td>...</td>\n      <td>...</td>\n      <td>...</td>\n      <td>...</td>\n      <td>...</td>\n      <td>...</td>\n      <td>...</td>\n      <td>...</td>\n      <td>...</td>\n      <td>...</td>\n      <td>...</td>\n      <td>...</td>\n      <td>...</td>\n      <td>...</td>\n      <td>...</td>\n    </tr>\n    <tr>\n      <th>8602</th>\n      <td>Gi56dSh8Fq8</td>\n      <td>22</td>\n      <td>2</td>\n      <td>18</td>\n      <td>0.753010</td>\n      <td>0.025024</td>\n      <td>0.008208</td>\n      <td>0.005323</td>\n      <td>40</td>\n      <td>8</td>\n      <td>...</td>\n      <td>0</td>\n      <td>0</td>\n      <td>0</td>\n      <td>0</td>\n      <td>0</td>\n      <td>0</td>\n      <td>1</td>\n      <td>0.000000</td>\n      <td>NaN</td>\n      <td>NaN</td>\n    </tr>\n    <tr>\n      <th>8603</th>\n      <td>dS5Thrl-4Kc</td>\n      <td>26</td>\n      <td>1</td>\n      <td>18</td>\n      <td>0.966927</td>\n      <td>0.043077</td>\n      <td>0.001473</td>\n      <td>0.005790</td>\n      <td>29</td>\n      <td>7</td>\n      <td>...</td>\n      <td>0</td>\n      <td>0</td>\n      <td>0</td>\n      <td>0</td>\n      <td>0</td>\n      <td>0</td>\n      <td>1</td>\n      <td>0.000000</td>\n      <td>NaN</td>\n      <td>NaN</td>\n    </tr>\n    <tr>\n      <th>8604</th>\n      <td>JGm9Y_hFqNk</td>\n      <td>17</td>\n      <td>2</td>\n      <td>15</td>\n      <td>0.960105</td>\n      <td>0.009474</td>\n      <td>0.000394</td>\n      <td>0.003082</td>\n      <td>94</td>\n      <td>17</td>\n      <td>...</td>\n      <td>0</td>\n      <td>0</td>\n      <td>1</td>\n      <td>0</td>\n      <td>0</td>\n      <td>0</td>\n      <td>0</td>\n      <td>0.000000</td>\n      <td>NaN</td>\n      <td>NaN</td>\n    </tr>\n    <tr>\n      <th>8605</th>\n      <td>mpnshdmtE2Y</td>\n      <td>26</td>\n      <td>1</td>\n      <td>16</td>\n      <td>0.953487</td>\n      <td>0.026300</td>\n      <td>0.001283</td>\n      <td>0.002242</td>\n      <td>66</td>\n      <td>15</td>\n      <td>...</td>\n      <td>0</td>\n      <td>0</td>\n      <td>0</td>\n      <td>0</td>\n      <td>0</td>\n      <td>0</td>\n      <td>0</td>\n      <td>0.046569</td>\n      <td>58.500000</td>\n      <td>26.500000</td>\n    </tr>\n    <tr>\n      <th>8606</th>\n      <td>yz7Xq3T0YPs</td>\n      <td>24</td>\n      <td>2</td>\n      <td>9</td>\n      <td>0.965211</td>\n      <td>0.027530</td>\n      <td>0.000992</td>\n      <td>0.002579</td>\n      <td>64</td>\n      <td>11</td>\n      <td>...</td>\n      <td>0</td>\n      <td>0</td>\n      <td>0</td>\n      <td>1</td>\n      <td>0</td>\n      <td>0</td>\n      <td>0</td>\n      <td>0.000000</td>\n      <td>NaN</td>\n      <td>NaN</td>\n    </tr>\n  </tbody>\n</table>\n<p>8607 rows × 174 columns</p>\n</div>"
     },
     "metadata": {},
     "execution_count": 2
    }
   ],
   "source": [
    "api_categories = pd.read_csv('../youtube_data/api_categories.csv')\n",
    "trending['category_id'] = api_categories['api_category_id']\n",
    "trending"
   ]
  },
  {
   "cell_type": "code",
   "execution_count": 3,
   "metadata": {
    "scrolled": true
   },
   "outputs": [
    {
     "output_type": "execute_result",
     "data": {
      "text/plain": "         video_id category_id  publish_weekday  publish_hour  like_ratio  \\\n0     JKmXamRF9wM          10                4             4    0.952492   \n1     lp-EO5I60KA          10                1            13    0.957880   \n2     bIB8EWqCPrQ          10                4             7    0.974519   \n3     1BR3ycghvTU          26                2             2    0.978044   \n4     NCJUpiLA8Y0          26                1            20    0.990336   \n...           ...         ...              ...           ...         ...   \n8595  zs4ELJwA5D8           1                1            16    0.814644   \n8596  5uVkKKxDA6c           1                3            14    0.959302   \n8597  QYvh1Cr0yII           1                1            15    0.937918   \n8598  fPi0lnP_u_s           1                3            16    0.974387   \n8599  UImXWiDFAoE           1                6            16    0.965819   \n\n      likes_per_view  dislikes_per_view  comments_per_view  title_num_chars  \\\n0           0.007430           0.000371           0.000248               46   \n1           0.003769           0.000166           0.000105               47   \n2           0.005121           0.000134           0.000208               49   \n3           0.020925           0.000470           0.001477               67   \n4           0.043886           0.000428           0.003710               61   \n...              ...                ...                ...              ...   \n8595        0.015157           0.003449           0.003147               44   \n8596        0.009898           0.000420           0.001360               63   \n8597        0.012900           0.000854           0.001675               58   \n8598        0.034020           0.000894           0.003149               61   \n8599        0.025375           0.000898           0.003977               47   \n\n      title_num_words  ...  faces_angry  faces_disgust  faces_fear  \\\n0                  11  ...            0              0           0   \n1                  10  ...            0              0           0   \n2                   9  ...            0              0           0   \n3                  13  ...            0              0           0   \n4                  12  ...            0              0           0   \n...               ...  ...          ...            ...         ...   \n8595                7  ...            0              0           0   \n8596               11  ...            0              0           0   \n8597               11  ...            0              0           0   \n8598               11  ...            0              0           0   \n8599               10  ...            0              0           0   \n\n      faces_happy  faces_neutral  faces_sad  faces_surprise  text_area  \\\n0               0              0          0               0          0   \n1               0              0          0               0          0   \n2               0              0          0               0          0   \n3               0              0          0               0          0   \n4               0              0          0               0          0   \n...           ...            ...        ...             ...        ...   \n8595            0              0          0               0          0   \n8596            0              0          0               0          0   \n8597            0              0          0               0          0   \n8598            0              0          0               0          0   \n8599            0              0          0               0          0   \n\n      text_centroid_x  text_centroid_y  \n0                 NaN              NaN  \n1                 NaN              NaN  \n2                 NaN              NaN  \n3                 NaN              NaN  \n4                 NaN              NaN  \n...               ...              ...  \n8595              NaN              NaN  \n8596              NaN              NaN  \n8597              NaN              NaN  \n8598              NaN              NaN  \n8599              NaN              NaN  \n\n[8600 rows x 174 columns]",
      "text/html": "<div>\n<style scoped>\n    .dataframe tbody tr th:only-of-type {\n        vertical-align: middle;\n    }\n\n    .dataframe tbody tr th {\n        vertical-align: top;\n    }\n\n    .dataframe thead th {\n        text-align: right;\n    }\n</style>\n<table border=\"1\" class=\"dataframe\">\n  <thead>\n    <tr style=\"text-align: right;\">\n      <th></th>\n      <th>video_id</th>\n      <th>category_id</th>\n      <th>publish_weekday</th>\n      <th>publish_hour</th>\n      <th>like_ratio</th>\n      <th>likes_per_view</th>\n      <th>dislikes_per_view</th>\n      <th>comments_per_view</th>\n      <th>title_num_chars</th>\n      <th>title_num_words</th>\n      <th>...</th>\n      <th>faces_angry</th>\n      <th>faces_disgust</th>\n      <th>faces_fear</th>\n      <th>faces_happy</th>\n      <th>faces_neutral</th>\n      <th>faces_sad</th>\n      <th>faces_surprise</th>\n      <th>text_area</th>\n      <th>text_centroid_x</th>\n      <th>text_centroid_y</th>\n    </tr>\n  </thead>\n  <tbody>\n    <tr>\n      <th>0</th>\n      <td>JKmXamRF9wM</td>\n      <td>10</td>\n      <td>4</td>\n      <td>4</td>\n      <td>0.952492</td>\n      <td>0.007430</td>\n      <td>0.000371</td>\n      <td>0.000248</td>\n      <td>46</td>\n      <td>11</td>\n      <td>...</td>\n      <td>0</td>\n      <td>0</td>\n      <td>0</td>\n      <td>0</td>\n      <td>0</td>\n      <td>0</td>\n      <td>0</td>\n      <td>0</td>\n      <td>NaN</td>\n      <td>NaN</td>\n    </tr>\n    <tr>\n      <th>1</th>\n      <td>lp-EO5I60KA</td>\n      <td>10</td>\n      <td>1</td>\n      <td>13</td>\n      <td>0.957880</td>\n      <td>0.003769</td>\n      <td>0.000166</td>\n      <td>0.000105</td>\n      <td>47</td>\n      <td>10</td>\n      <td>...</td>\n      <td>0</td>\n      <td>0</td>\n      <td>0</td>\n      <td>0</td>\n      <td>0</td>\n      <td>0</td>\n      <td>0</td>\n      <td>0</td>\n      <td>NaN</td>\n      <td>NaN</td>\n    </tr>\n    <tr>\n      <th>2</th>\n      <td>bIB8EWqCPrQ</td>\n      <td>10</td>\n      <td>4</td>\n      <td>7</td>\n      <td>0.974519</td>\n      <td>0.005121</td>\n      <td>0.000134</td>\n      <td>0.000208</td>\n      <td>49</td>\n      <td>9</td>\n      <td>...</td>\n      <td>0</td>\n      <td>0</td>\n      <td>0</td>\n      <td>0</td>\n      <td>0</td>\n      <td>0</td>\n      <td>0</td>\n      <td>0</td>\n      <td>NaN</td>\n      <td>NaN</td>\n    </tr>\n    <tr>\n      <th>3</th>\n      <td>1BR3ycghvTU</td>\n      <td>26</td>\n      <td>2</td>\n      <td>2</td>\n      <td>0.978044</td>\n      <td>0.020925</td>\n      <td>0.000470</td>\n      <td>0.001477</td>\n      <td>67</td>\n      <td>13</td>\n      <td>...</td>\n      <td>0</td>\n      <td>0</td>\n      <td>0</td>\n      <td>0</td>\n      <td>0</td>\n      <td>0</td>\n      <td>0</td>\n      <td>0</td>\n      <td>NaN</td>\n      <td>NaN</td>\n    </tr>\n    <tr>\n      <th>4</th>\n      <td>NCJUpiLA8Y0</td>\n      <td>26</td>\n      <td>1</td>\n      <td>20</td>\n      <td>0.990336</td>\n      <td>0.043886</td>\n      <td>0.000428</td>\n      <td>0.003710</td>\n      <td>61</td>\n      <td>12</td>\n      <td>...</td>\n      <td>0</td>\n      <td>0</td>\n      <td>0</td>\n      <td>0</td>\n      <td>0</td>\n      <td>0</td>\n      <td>0</td>\n      <td>0</td>\n      <td>NaN</td>\n      <td>NaN</td>\n    </tr>\n    <tr>\n      <th>...</th>\n      <td>...</td>\n      <td>...</td>\n      <td>...</td>\n      <td>...</td>\n      <td>...</td>\n      <td>...</td>\n      <td>...</td>\n      <td>...</td>\n      <td>...</td>\n      <td>...</td>\n      <td>...</td>\n      <td>...</td>\n      <td>...</td>\n      <td>...</td>\n      <td>...</td>\n      <td>...</td>\n      <td>...</td>\n      <td>...</td>\n      <td>...</td>\n      <td>...</td>\n      <td>...</td>\n    </tr>\n    <tr>\n      <th>8595</th>\n      <td>zs4ELJwA5D8</td>\n      <td>1</td>\n      <td>1</td>\n      <td>16</td>\n      <td>0.814644</td>\n      <td>0.015157</td>\n      <td>0.003449</td>\n      <td>0.003147</td>\n      <td>44</td>\n      <td>7</td>\n      <td>...</td>\n      <td>0</td>\n      <td>0</td>\n      <td>0</td>\n      <td>0</td>\n      <td>0</td>\n      <td>0</td>\n      <td>0</td>\n      <td>0</td>\n      <td>NaN</td>\n      <td>NaN</td>\n    </tr>\n    <tr>\n      <th>8596</th>\n      <td>5uVkKKxDA6c</td>\n      <td>1</td>\n      <td>3</td>\n      <td>14</td>\n      <td>0.959302</td>\n      <td>0.009898</td>\n      <td>0.000420</td>\n      <td>0.001360</td>\n      <td>63</td>\n      <td>11</td>\n      <td>...</td>\n      <td>0</td>\n      <td>0</td>\n      <td>0</td>\n      <td>0</td>\n      <td>0</td>\n      <td>0</td>\n      <td>0</td>\n      <td>0</td>\n      <td>NaN</td>\n      <td>NaN</td>\n    </tr>\n    <tr>\n      <th>8597</th>\n      <td>QYvh1Cr0yII</td>\n      <td>1</td>\n      <td>1</td>\n      <td>15</td>\n      <td>0.937918</td>\n      <td>0.012900</td>\n      <td>0.000854</td>\n      <td>0.001675</td>\n      <td>58</td>\n      <td>11</td>\n      <td>...</td>\n      <td>0</td>\n      <td>0</td>\n      <td>0</td>\n      <td>0</td>\n      <td>0</td>\n      <td>0</td>\n      <td>0</td>\n      <td>0</td>\n      <td>NaN</td>\n      <td>NaN</td>\n    </tr>\n    <tr>\n      <th>8598</th>\n      <td>fPi0lnP_u_s</td>\n      <td>1</td>\n      <td>3</td>\n      <td>16</td>\n      <td>0.974387</td>\n      <td>0.034020</td>\n      <td>0.000894</td>\n      <td>0.003149</td>\n      <td>61</td>\n      <td>11</td>\n      <td>...</td>\n      <td>0</td>\n      <td>0</td>\n      <td>0</td>\n      <td>0</td>\n      <td>0</td>\n      <td>0</td>\n      <td>0</td>\n      <td>0</td>\n      <td>NaN</td>\n      <td>NaN</td>\n    </tr>\n    <tr>\n      <th>8599</th>\n      <td>UImXWiDFAoE</td>\n      <td>1</td>\n      <td>6</td>\n      <td>16</td>\n      <td>0.965819</td>\n      <td>0.025375</td>\n      <td>0.000898</td>\n      <td>0.003977</td>\n      <td>47</td>\n      <td>10</td>\n      <td>...</td>\n      <td>0</td>\n      <td>0</td>\n      <td>0</td>\n      <td>0</td>\n      <td>0</td>\n      <td>0</td>\n      <td>0</td>\n      <td>0</td>\n      <td>NaN</td>\n      <td>NaN</td>\n    </tr>\n  </tbody>\n</table>\n<p>8600 rows × 174 columns</p>\n</div>"
     },
     "metadata": {},
     "execution_count": 3
    }
   ],
   "source": [
    "non_trending"
   ]
  },
  {
   "cell_type": "code",
   "execution_count": 4,
   "metadata": {},
   "outputs": [
    {
     "output_type": "execute_result",
     "data": {
      "text/plain": "         video_id  category_id  publish_weekday  publish_hour  like_ratio  \\\n0     Jw1Y-zhQURU           -1                4             7    0.844573   \n1     3s1rvMFUweQ           -1                6             6    0.917645   \n2     n1WpP7iowLc           10                4            17    0.947740   \n3     PUTEiSjKwJU           17                0             2    0.941463   \n4     rHwDegptbI4           -1                0             1    0.937500   \n...           ...          ...              ...           ...         ...   \n8595  zs4ELJwA5D8            1                1            16    0.814644   \n8596  5uVkKKxDA6c            1                3            14    0.959302   \n8597  QYvh1Cr0yII            1                1            15    0.937918   \n8598  fPi0lnP_u_s            1                3            16    0.974387   \n8599  UImXWiDFAoE            1                6            16    0.965819   \n\n      likes_per_view  dislikes_per_view  comments_per_view  title_num_chars  \\\n0           0.007707           0.001418           0.001312               45   \n1           0.024260           0.002177           0.002617               43   \n2           0.045891           0.002531           0.007336               43   \n3           0.006934           0.000431           0.001329               76   \n4           0.003057           0.000204           0.003057               55   \n...              ...                ...                ...              ...   \n8595        0.015157           0.003449           0.003147               44   \n8596        0.009898           0.000420           0.001360               63   \n8597        0.012900           0.000854           0.001675               58   \n8598        0.034020           0.000894           0.003149               61   \n8599        0.025375           0.000898           0.003977               47   \n\n      title_num_words  ...  faces_disgust  faces_fear  faces_happy  \\\n0                   7  ...              0           0            0   \n1                  15  ...              0           0            0   \n2                  13  ...              0           0            0   \n3                  15  ...              0           0            0   \n4                   9  ...              0           0            0   \n...               ...  ...            ...         ...          ...   \n8595                7  ...              0           0            0   \n8596               11  ...              0           0            0   \n8597               11  ...              0           0            0   \n8598               11  ...              0           0            0   \n8599               10  ...              0           0            0   \n\n      faces_neutral  faces_sad  faces_surprise  text_area  text_centroid_x  \\\n0                 0          0               0   0.000000              NaN   \n1                 0          0               0   0.000000              NaN   \n2                 0          0               0   0.419853        25.809107   \n3                 0          0               0   0.000000              NaN   \n4                 0          0               0   0.000000              NaN   \n...             ...        ...             ...        ...              ...   \n8595              0          0               0   0.000000              NaN   \n8596              0          0               0   0.000000              NaN   \n8597              0          0               0   0.000000              NaN   \n8598              0          0               0   0.000000              NaN   \n8599              0          0               0   0.000000              NaN   \n\n      text_centroid_y  trending  \n0                 NaN         1  \n1                 NaN         1  \n2           55.878284         1  \n3                 NaN         1  \n4                 NaN         1  \n...               ...       ...  \n8595              NaN         0  \n8596              NaN         0  \n8597              NaN         0  \n8598              NaN         0  \n8599              NaN         0  \n\n[17207 rows x 175 columns]",
      "text/html": "<div>\n<style scoped>\n    .dataframe tbody tr th:only-of-type {\n        vertical-align: middle;\n    }\n\n    .dataframe tbody tr th {\n        vertical-align: top;\n    }\n\n    .dataframe thead th {\n        text-align: right;\n    }\n</style>\n<table border=\"1\" class=\"dataframe\">\n  <thead>\n    <tr style=\"text-align: right;\">\n      <th></th>\n      <th>video_id</th>\n      <th>category_id</th>\n      <th>publish_weekday</th>\n      <th>publish_hour</th>\n      <th>like_ratio</th>\n      <th>likes_per_view</th>\n      <th>dislikes_per_view</th>\n      <th>comments_per_view</th>\n      <th>title_num_chars</th>\n      <th>title_num_words</th>\n      <th>...</th>\n      <th>faces_disgust</th>\n      <th>faces_fear</th>\n      <th>faces_happy</th>\n      <th>faces_neutral</th>\n      <th>faces_sad</th>\n      <th>faces_surprise</th>\n      <th>text_area</th>\n      <th>text_centroid_x</th>\n      <th>text_centroid_y</th>\n      <th>trending</th>\n    </tr>\n  </thead>\n  <tbody>\n    <tr>\n      <th>0</th>\n      <td>Jw1Y-zhQURU</td>\n      <td>-1</td>\n      <td>4</td>\n      <td>7</td>\n      <td>0.844573</td>\n      <td>0.007707</td>\n      <td>0.001418</td>\n      <td>0.001312</td>\n      <td>45</td>\n      <td>7</td>\n      <td>...</td>\n      <td>0</td>\n      <td>0</td>\n      <td>0</td>\n      <td>0</td>\n      <td>0</td>\n      <td>0</td>\n      <td>0.000000</td>\n      <td>NaN</td>\n      <td>NaN</td>\n      <td>1</td>\n    </tr>\n    <tr>\n      <th>1</th>\n      <td>3s1rvMFUweQ</td>\n      <td>-1</td>\n      <td>6</td>\n      <td>6</td>\n      <td>0.917645</td>\n      <td>0.024260</td>\n      <td>0.002177</td>\n      <td>0.002617</td>\n      <td>43</td>\n      <td>15</td>\n      <td>...</td>\n      <td>0</td>\n      <td>0</td>\n      <td>0</td>\n      <td>0</td>\n      <td>0</td>\n      <td>0</td>\n      <td>0.000000</td>\n      <td>NaN</td>\n      <td>NaN</td>\n      <td>1</td>\n    </tr>\n    <tr>\n      <th>2</th>\n      <td>n1WpP7iowLc</td>\n      <td>10</td>\n      <td>4</td>\n      <td>17</td>\n      <td>0.947740</td>\n      <td>0.045891</td>\n      <td>0.002531</td>\n      <td>0.007336</td>\n      <td>43</td>\n      <td>13</td>\n      <td>...</td>\n      <td>0</td>\n      <td>0</td>\n      <td>0</td>\n      <td>0</td>\n      <td>0</td>\n      <td>0</td>\n      <td>0.419853</td>\n      <td>25.809107</td>\n      <td>55.878284</td>\n      <td>1</td>\n    </tr>\n    <tr>\n      <th>3</th>\n      <td>PUTEiSjKwJU</td>\n      <td>17</td>\n      <td>0</td>\n      <td>2</td>\n      <td>0.941463</td>\n      <td>0.006934</td>\n      <td>0.000431</td>\n      <td>0.001329</td>\n      <td>76</td>\n      <td>15</td>\n      <td>...</td>\n      <td>0</td>\n      <td>0</td>\n      <td>0</td>\n      <td>0</td>\n      <td>0</td>\n      <td>0</td>\n      <td>0.000000</td>\n      <td>NaN</td>\n      <td>NaN</td>\n      <td>1</td>\n    </tr>\n    <tr>\n      <th>4</th>\n      <td>rHwDegptbI4</td>\n      <td>-1</td>\n      <td>0</td>\n      <td>1</td>\n      <td>0.937500</td>\n      <td>0.003057</td>\n      <td>0.000204</td>\n      <td>0.003057</td>\n      <td>55</td>\n      <td>9</td>\n      <td>...</td>\n      <td>0</td>\n      <td>0</td>\n      <td>0</td>\n      <td>0</td>\n      <td>0</td>\n      <td>0</td>\n      <td>0.000000</td>\n      <td>NaN</td>\n      <td>NaN</td>\n      <td>1</td>\n    </tr>\n    <tr>\n      <th>...</th>\n      <td>...</td>\n      <td>...</td>\n      <td>...</td>\n      <td>...</td>\n      <td>...</td>\n      <td>...</td>\n      <td>...</td>\n      <td>...</td>\n      <td>...</td>\n      <td>...</td>\n      <td>...</td>\n      <td>...</td>\n      <td>...</td>\n      <td>...</td>\n      <td>...</td>\n      <td>...</td>\n      <td>...</td>\n      <td>...</td>\n      <td>...</td>\n      <td>...</td>\n      <td>...</td>\n    </tr>\n    <tr>\n      <th>8595</th>\n      <td>zs4ELJwA5D8</td>\n      <td>1</td>\n      <td>1</td>\n      <td>16</td>\n      <td>0.814644</td>\n      <td>0.015157</td>\n      <td>0.003449</td>\n      <td>0.003147</td>\n      <td>44</td>\n      <td>7</td>\n      <td>...</td>\n      <td>0</td>\n      <td>0</td>\n      <td>0</td>\n      <td>0</td>\n      <td>0</td>\n      <td>0</td>\n      <td>0.000000</td>\n      <td>NaN</td>\n      <td>NaN</td>\n      <td>0</td>\n    </tr>\n    <tr>\n      <th>8596</th>\n      <td>5uVkKKxDA6c</td>\n      <td>1</td>\n      <td>3</td>\n      <td>14</td>\n      <td>0.959302</td>\n      <td>0.009898</td>\n      <td>0.000420</td>\n      <td>0.001360</td>\n      <td>63</td>\n      <td>11</td>\n      <td>...</td>\n      <td>0</td>\n      <td>0</td>\n      <td>0</td>\n      <td>0</td>\n      <td>0</td>\n      <td>0</td>\n      <td>0.000000</td>\n      <td>NaN</td>\n      <td>NaN</td>\n      <td>0</td>\n    </tr>\n    <tr>\n      <th>8597</th>\n      <td>QYvh1Cr0yII</td>\n      <td>1</td>\n      <td>1</td>\n      <td>15</td>\n      <td>0.937918</td>\n      <td>0.012900</td>\n      <td>0.000854</td>\n      <td>0.001675</td>\n      <td>58</td>\n      <td>11</td>\n      <td>...</td>\n      <td>0</td>\n      <td>0</td>\n      <td>0</td>\n      <td>0</td>\n      <td>0</td>\n      <td>0</td>\n      <td>0.000000</td>\n      <td>NaN</td>\n      <td>NaN</td>\n      <td>0</td>\n    </tr>\n    <tr>\n      <th>8598</th>\n      <td>fPi0lnP_u_s</td>\n      <td>1</td>\n      <td>3</td>\n      <td>16</td>\n      <td>0.974387</td>\n      <td>0.034020</td>\n      <td>0.000894</td>\n      <td>0.003149</td>\n      <td>61</td>\n      <td>11</td>\n      <td>...</td>\n      <td>0</td>\n      <td>0</td>\n      <td>0</td>\n      <td>0</td>\n      <td>0</td>\n      <td>0</td>\n      <td>0.000000</td>\n      <td>NaN</td>\n      <td>NaN</td>\n      <td>0</td>\n    </tr>\n    <tr>\n      <th>8599</th>\n      <td>UImXWiDFAoE</td>\n      <td>1</td>\n      <td>6</td>\n      <td>16</td>\n      <td>0.965819</td>\n      <td>0.025375</td>\n      <td>0.000898</td>\n      <td>0.003977</td>\n      <td>47</td>\n      <td>10</td>\n      <td>...</td>\n      <td>0</td>\n      <td>0</td>\n      <td>0</td>\n      <td>0</td>\n      <td>0</td>\n      <td>0</td>\n      <td>0.000000</td>\n      <td>NaN</td>\n      <td>NaN</td>\n      <td>0</td>\n    </tr>\n  </tbody>\n</table>\n<p>17207 rows × 175 columns</p>\n</div>"
     },
     "metadata": {},
     "execution_count": 4
    }
   ],
   "source": [
    "df = pd.concat([trending.assign(trending=1), non_trending.assign(trending=0)])\n",
    "df"
   ]
  },
  {
   "cell_type": "code",
   "execution_count": 5,
   "metadata": {},
   "outputs": [],
   "source": [
    "from loaders import load_all_videos, load_raw_non_trending\n",
    "\n",
    "# tokens from title/description/tags were helpful for discriminating between categories,\n",
    "# but we need to find differences between trending and non-trending videos this time\n",
    "\n",
    "trending_raw = load_all_videos().drop_duplicates('video_id')\n",
    "non_trending_raw = load_raw_non_trending()\n",
    "\n",
    "text_df = pd.concat([\n",
    "    trending_raw[['video_id', 'title', 'description', 'tags']].assign(trending=1),\n",
    "    non_trending_raw[['video_id', 'title', 'description', 'tags']].assign(trending=0)\n",
    "])\n",
    "text_df.loc[text_df['description'].isna(), 'description'] = ''"
   ]
  },
  {
   "cell_type": "code",
   "execution_count": 6,
   "metadata": {},
   "outputs": [],
   "source": [
    "from sklearn.model_selection import train_test_split\n",
    "\n",
    "train, test = train_test_split(text_df, train_size=0.8)"
   ]
  },
  {
   "cell_type": "code",
   "execution_count": 7,
   "metadata": {
    "tags": [
     "outputPrepend",
     "outputPrepend",
     "outputPrepend",
     "outputPrepend",
     "outputPrepend",
     "outputPrepend",
     "outputPrepend",
     "outputPrepend",
     "outputPrepend",
     "outputPrepend"
    ]
   },
   "outputs": [],
   "source": [
    "import string\n",
    "from sklearn.feature_extraction.text import TfidfVectorizer\n",
    "from nltk.corpus import stopwords\n",
    "\n",
    "stops = set(stopwords.words('english'))\n",
    "stops.update(string.punctuation)\n",
    "\n",
    "title_vec = TfidfVectorizer(stop_words=stops)\n",
    "title_tfidf = title_vec.fit_transform(train['title'])\n",
    "\n",
    "desc_vec = TfidfVectorizer(stop_words=stops)\n",
    "desc_tfidf = desc_vec.fit_transform(train['description'])\n",
    "\n",
    "def parse_tags(value):\n",
    "    if value == '[none]':\n",
    "        return []\n",
    "    if value.startswith('[') and value.endswith(']') and '|' not in value:\n",
    "        return eval(value) # non-trending videos have their tags represented as Python arrays but in strings\n",
    "    return [tag.strip('\"').lower() for tag in value.split('|')]\n",
    "\n",
    "tag_vec = TfidfVectorizer(tokenizer=parse_tags)\n",
    "tag_tfidf = tag_vec.fit_transform(train['tags'])"
   ]
  },
  {
   "cell_type": "code",
   "execution_count": 8,
   "metadata": {},
   "outputs": [],
   "source": [
    "from sklearn.naive_bayes import MultinomialNB\n",
    "from scipy.sparse import hstack\n",
    "\n",
    "train_text = hstack([title_tfidf, desc_tfidf, tag_tfidf])\n",
    "\n",
    "model = MultinomialNB()\n",
    "model.fit(train_text, train['trending'])\n",
    "\n",
    "test_text = hstack([\n",
    "    title_vec.transform(test['title']),\n",
    "    desc_vec.transform(test['description']),\n",
    "    tag_vec.transform(test['tags']),\n",
    "])\n",
    "test_labels = model.predict(test_text)"
   ]
  },
  {
   "cell_type": "code",
   "execution_count": 9,
   "metadata": {},
   "outputs": [
    {
     "output_type": "stream",
     "name": "stdout",
     "text": "precision    recall  f1-score   support\n\n           0       0.81      0.79      0.80      1820\n           1       0.78      0.79      0.78      1661\n\n    accuracy                           0.79      3481\n   macro avg       0.79      0.79      0.79      3481\nweighted avg       0.79      0.79      0.79      3481\n\n[[1445  375]\n [ 350 1311]]\n"
    }
   ],
   "source": [
    "from sklearn.metrics import classification_report, confusion_matrix\n",
    "\n",
    "print(classification_report(test['trending'], test_labels))\n",
    "print(confusion_matrix(test['trending'], test_labels))"
   ]
  },
  {
   "cell_type": "code",
   "execution_count": 10,
   "metadata": {
    "tags": [
     "outputPrepend",
     "outputPrepend",
     "outputPrepend",
     "outputPrepend",
     "outputPrepend",
     "outputPrepend",
     "outputPrepend",
     "outputPrepend",
     "outputPrepend",
     "outputPrepend",
     "outputPrepend",
     "outputPrepend",
     "outputPrepend",
     "outputPrepend",
     "outputPrepend",
     "outputPrepend",
     "outputPrepend",
     "outputPrepend",
     "outputPrepend",
     "outputPrepend",
     "outputPrepend",
     "outputPrepend",
     "outputPrepend",
     "outputPrepend",
     "outputPrepend",
     "outputPrepend",
     "outputPrepend",
     "outputPrepend",
     "outputPrepend",
     "outputPrepend",
     "outputPrepend",
     "outputPrepend",
     "outputPrepend",
     "outputPrepend",
     "outputPrepend",
     "outputPrepend",
     "outputPrepend",
     "outputPrepend",
     "outputPrepend",
     "outputPrepend",
     "outputPrepend",
     "outputPrepend",
     "outputPrepend",
     "outputPrepend",
     "outputPrepend",
     "outputPrepend",
     "outputPrepend",
     "outputPrepend",
     "outputPrepend",
     "outputPrepend",
     "outputPrepend",
     "outputPrepend",
     "outputPrepend",
     "outputPrepend",
     "outputPrepend",
     "outputPrepend",
     "outputPrepend",
     "outputPrepend"
    ]
   },
   "outputs": [
    {
     "output_type": "stream",
     "name": "stdout",
     "text": "trending\n[('desc', 'espn'), ('desc', 'cbs'), ('desc', '2018'), ('desc', 'night'), ('desc', 'youtu'), ('title', 'new'), ('desc', 'amzn'), ('title', '2017'), ('desc', 'like'), ('desc', 'nfollow'), ('desc', 'äù'), ('desc', 'tumblr'), ('desc', 'live'), ('desc', 'news'), ('desc', 'new'), ('desc', 'smarturl'), ('desc', 'videos'), ('desc', 'jimmy'), ('tag', 'comedy'), ('desc', 'channel'), ('desc', 'nhttps'), ('desc', 'get'), ('tag', 'funny'), ('desc', 'äôs'), ('desc', 'twitter'), ('desc', 'late'), ('desc', 'nhttp'), ('desc', 'us'), ('desc', 'bit'), ('desc', 'facebook'), ('desc', 'video'), ('desc', 'goo'), ('desc', 'subscribe'), ('desc', 'nbc'), ('desc', 'youtube'), ('desc', 'ly'), ('desc', 'follow'), ('desc', 'www'), ('desc', 'show'), ('title', 'trailer'), ('title', 'video'), ('desc', 'gl'), ('desc', 'instagram'), ('title', '2018'), ('desc', 'music'), ('desc', 'watch'), ('title', 'official'), ('desc', 'https'), ('desc', 'http'), ('desc', 'com')]\n\nnon-trending\n[('desc', 'one'), ('desc', 'first'), ('desc', 'youtu'), ('desc', 'youtube'), ('desc', 'music'), ('desc', 'jimmy'), ('title', 'official'), ('desc', 'like'), ('desc', 'subscribe'), ('desc', 'videos'), ('desc', 'co'), ('tag', 'funny'), ('desc', 'new'), ('desc', 'get'), ('title', 'trailer'), ('desc', 'news'), ('desc', 'instagram'), ('desc', 'show'), ('desc', 'smarturl'), ('desc', 'late'), ('desc', 'ly'), ('desc', 'tumblr'), ('desc', 'twitter'), ('title', 'video'), ('title', 'best'), ('desc', 'nba'), ('desc', 'gl'), ('desc', 'list'), ('desc', 'movie'), ('desc', 'watch'), ('desc', 'http'), ('tag', 'comedy'), ('desc', 'espn'), ('desc', 'www'), ('desc', 'video'), ('desc', 'goo'), ('desc', 'facebook'), ('title', 'vs'), ('title', '2018'), ('desc', 'official'), ('desc', 'check'), ('title', 'music'), ('desc', 'follow'), ('desc', 'https'), ('desc', 'today'), ('desc', 'com'), ('desc', 'bit'), ('desc', 'amzn'), ('desc', 'channel'), ('desc', 'us')]\n"
    }
   ],
   "source": [
    "def get_feature_names(indices):\n",
    "    title_vocab_size = len(title_vec.vocabulary_)\n",
    "    desc_vocab_size = len(desc_vec.vocabulary_)\n",
    "    result = []\n",
    "    for idx in indices:\n",
    "        if idx < title_vocab_size:\n",
    "            result.append(('title', title_vec.get_feature_names()[idx]))\n",
    "        else:\n",
    "            idx -= title_vocab_size\n",
    "            if idx < desc_vocab_size:\n",
    "                result.append(('desc', desc_vec.get_feature_names()[idx]))\n",
    "            else:\n",
    "                idx -= desc_vocab_size\n",
    "                result.append(('tag', tag_vec.get_feature_names()[idx]))\n",
    "    return result\n",
    "\n",
    "top_features = 50\n",
    "\n",
    "print('trending')\n",
    "print(get_feature_names(np.argpartition(model.feature_log_prob_[1,:], -top_features)[-top_features:]))\n",
    "print()\n",
    "print('non-trending')\n",
    "print(get_feature_names(np.argpartition(model.feature_log_prob_[0,:], -top_features)[-top_features:]))"
   ]
  }
 ],
 "metadata": {
  "kernelspec": {
   "display_name": "Python 3",
   "language": "python",
   "name": "python3"
  },
  "language_info": {
   "codemirror_mode": {
    "name": "ipython",
    "version": 3
   },
   "file_extension": ".py",
   "mimetype": "text/x-python",
   "name": "python",
   "nbconvert_exporter": "python",
   "pygments_lexer": "ipython3",
   "version": "3.6.9-final"
  }
 },
 "nbformat": 4,
 "nbformat_minor": 4
}